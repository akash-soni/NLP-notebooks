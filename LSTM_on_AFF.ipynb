{
 "cells": [
  {
   "cell_type": "markdown",
   "metadata": {},
   "source": [
    "# **LSTM of Amazon Fine Food Reviews**"
   ]
  },
  {
   "cell_type": "code",
   "execution_count": 1,
   "metadata": {},
   "outputs": [
    {
     "name": "stdout",
     "output_type": "stream",
     "text": [
      "Requirement already satisfied: keras in /opt/anaconda3/lib/python3.6/site-packages (2.2.4)\n",
      "Requirement already satisfied: keras-applications>=1.0.6 in /opt/anaconda3/lib/python3.6/site-packages (from keras) (1.0.7)\n",
      "Requirement already satisfied: numpy>=1.9.1 in /opt/anaconda3/lib/python3.6/site-packages (from keras) (1.14.5)\n",
      "Requirement already satisfied: keras-preprocessing>=1.0.5 in /opt/anaconda3/lib/python3.6/site-packages (from keras) (1.0.9)\n",
      "Requirement already satisfied: pyyaml in /opt/anaconda3/lib/python3.6/site-packages (from keras) (3.12)\n",
      "Requirement already satisfied: h5py in /opt/anaconda3/lib/python3.6/site-packages (from keras) (2.7.1)\n",
      "Requirement already satisfied: scipy>=0.14 in /opt/anaconda3/lib/python3.6/site-packages (from keras) (1.0.0)\n",
      "Requirement already satisfied: six>=1.9.0 in /opt/DL/protobuf/lib/python3.6/site-packages/six-1.11.0-py3.6.egg (from keras) (1.11.0)\n",
      "\u001b[33mYou are using pip version 18.0, however version 19.0.3 is available.\n",
      "You should consider upgrading via the 'pip install --upgrade pip' command.\u001b[0m\n",
      "Requirement already satisfied: tensorflow in /opt/DL/tensorflow/lib/python3.6/site-packages (1.10.0)\n",
      "Requirement already satisfied: gast>=0.2.0 in /opt/anaconda3/lib/python3.6/site-packages (from tensorflow) (0.2.0)\n",
      "Requirement already satisfied: six>=1.10.0 in /opt/DL/protobuf/lib/python3.6/site-packages/six-1.11.0-py3.6.egg (from tensorflow) (1.11.0)\n",
      "Requirement already satisfied: astor>=0.6.0 in /opt/anaconda3/lib/python3.6/site-packages (from tensorflow) (0.7.1)\n",
      "Requirement already satisfied: wheel>=0.26 in /opt/anaconda3/lib/python3.6/site-packages (from tensorflow) (0.31.1)\n",
      "Requirement already satisfied: protobuf>=3.6.0 in /opt/anaconda3/lib/python3.6/site-packages (from tensorflow) (3.6.0)\n",
      "Requirement already satisfied: toposort>=1.5.0 in /opt/anaconda3/lib/python3.6/site-packages (from tensorflow) (1.5)\n",
      "Requirement already satisfied: absl-py>=0.1.6 in /opt/anaconda3/lib/python3.6/site-packages (from tensorflow) (0.5.0)\n",
      "Requirement already satisfied: tensorboard<1.11.0,>=1.10.0 in /opt/anaconda3/lib/python3.6/site-packages (from tensorflow) (1.10.0)\n",
      "Requirement already satisfied: setuptools<=39.1.0 in /opt/anaconda3/lib/python3.6/site-packages (from tensorflow) (39.1.0)\n",
      "Requirement already satisfied: grpcio>=1.8.6 in /opt/anaconda3/lib/python3.6/site-packages (from tensorflow) (1.12.1)\n",
      "Requirement already satisfied: numpy<=1.14.5,>=1.13.3 in /opt/anaconda3/lib/python3.6/site-packages (from tensorflow) (1.14.5)\n",
      "Requirement already satisfied: termcolor>=1.1.0 in /opt/anaconda3/lib/python3.6/site-packages (from tensorflow) (1.1.0)\n",
      "Requirement already satisfied: markdown>=2.6.8 in /opt/anaconda3/lib/python3.6/site-packages (from tensorboard<1.11.0,>=1.10.0->tensorflow) (2.6.11)\n",
      "Requirement already satisfied: werkzeug>=0.11.10 in /opt/anaconda3/lib/python3.6/site-packages (from tensorboard<1.11.0,>=1.10.0->tensorflow) (0.12.2)\n",
      "\u001b[33mYou are using pip version 18.0, however version 19.0.3 is available.\n",
      "You should consider upgrading via the 'pip install --upgrade pip' command.\u001b[0m\n",
      "Requirement already satisfied: nltk in /opt/anaconda3/lib/python3.6/site-packages (3.3)\n",
      "Requirement already satisfied: six in /opt/DL/protobuf/lib/python3.6/site-packages/six-1.11.0-py3.6.egg (from nltk) (1.11.0)\n",
      "\u001b[33mYou are using pip version 18.0, however version 19.0.3 is available.\n",
      "You should consider upgrading via the 'pip install --upgrade pip' command.\u001b[0m\n"
     ]
    }
   ],
   "source": [
    "#installing keras and tensorflow\n",
    "!pip install keras\n",
    "!pip install tensorflow\n",
    "!pip install nltk\n",
    "import nltk # natural language processing toolkit used for Natural language processing NLP\n",
    "import matplotlib.pyplot as plt\n",
    "import seaborn as sb\n",
    "import time\n",
    "import pandas as pd\n",
    "from sklearn.feature_extraction.text import CountVectorizer\n",
    "from sklearn.feature_extraction.text import TfidfVectorizer\n",
    "from tqdm import tqdm"
   ]
  },
  {
   "cell_type": "code",
   "execution_count": 2,
   "metadata": {},
   "outputs": [
    {
     "name": "stderr",
     "output_type": "stream",
     "text": [
      "/opt/anaconda3/lib/python3.6/site-packages/h5py/__init__.py:36: FutureWarning: Conversion of the second argument of issubdtype from `float` to `np.floating` is deprecated. In future, it will be treated as `np.float64 == np.dtype(float).type`.\n",
      "  from ._conv import register_converters as _register_converters\n",
      "Using TensorFlow backend.\n"
     ]
    }
   ],
   "source": [
    "# Credits: https://machinelearningmastery.com/sequence-classification-lstm-recurrent-neural-networks-python-keras/\n",
    "# LSTM for sequence classification in the IMDB dataset\n",
    "import numpy as np\n",
    "from keras.models import Sequential\n",
    "from keras.layers import Dense\n",
    "from keras.layers import LSTM\n",
    "from keras.layers.embeddings import Embedding\n",
    "from keras.preprocessing import sequence\n",
    "# fix random seed for reproducibility\n",
    "np.random.seed(7)"
   ]
  },
  {
   "cell_type": "markdown",
   "metadata": {},
   "source": [
    "## **Implementing LSTM on Amazon Fine Food Reviews using Keras**"
   ]
  },
  {
   "cell_type": "code",
   "execution_count": 3,
   "metadata": {},
   "outputs": [
    {
     "name": "stdout",
     "output_type": "stream",
     "text": [
      "(364171, 14)\n"
     ]
    }
   ],
   "source": [
    "# Loading already cleaned datafile\n",
    "final = pd.read_csv(\"./final.csv\", engine = \"python\")\n",
    "print(final.shape)"
   ]
  },
  {
   "cell_type": "code",
   "execution_count": 4,
   "metadata": {
    "collapsed": true
   },
   "outputs": [],
   "source": [
    "###Sorting as we want according to time \n",
    "final.sort_values('Time',inplace=True)"
   ]
  },
  {
   "cell_type": "code",
   "execution_count": 5,
   "metadata": {},
   "outputs": [
    {
     "data": {
      "text/plain": [
       "(364168, 14)"
      ]
     },
     "execution_count": 5,
     "metadata": {},
     "output_type": "execute_result"
    }
   ],
   "source": [
    "#filtering out null records\n",
    "filtered_df = final[final['CleanedText_NoStem'].notnull()]\n",
    "filtered_df.shape"
   ]
  },
  {
   "cell_type": "code",
   "execution_count": 6,
   "metadata": {},
   "outputs": [
    {
     "data": {
      "text/html": [
       "<div>\n",
       "<style scoped>\n",
       "    .dataframe tbody tr th:only-of-type {\n",
       "        vertical-align: middle;\n",
       "    }\n",
       "\n",
       "    .dataframe tbody tr th {\n",
       "        vertical-align: top;\n",
       "    }\n",
       "\n",
       "    .dataframe thead th {\n",
       "        text-align: right;\n",
       "    }\n",
       "</style>\n",
       "<table border=\"1\" class=\"dataframe\">\n",
       "  <thead>\n",
       "    <tr style=\"text-align: right;\">\n",
       "      <th></th>\n",
       "      <th>Id</th>\n",
       "      <th>ProductId</th>\n",
       "      <th>UserId</th>\n",
       "      <th>ProfileName</th>\n",
       "      <th>HelpfulnessNumerator</th>\n",
       "      <th>HelpfulnessDenominator</th>\n",
       "      <th>Score</th>\n",
       "      <th>Time</th>\n",
       "      <th>Summary</th>\n",
       "      <th>Text</th>\n",
       "      <th>CleanedText_NoStem</th>\n",
       "      <th>CleanedText</th>\n",
       "      <th>CleanedText_NoStem_utf</th>\n",
       "      <th>CleanedText_utf</th>\n",
       "    </tr>\n",
       "  </thead>\n",
       "  <tbody>\n",
       "    <tr>\n",
       "      <th>0</th>\n",
       "      <td>150524</td>\n",
       "      <td>0006641040</td>\n",
       "      <td>ACITT7DI6IDDL</td>\n",
       "      <td>shari zychinski</td>\n",
       "      <td>0</td>\n",
       "      <td>0</td>\n",
       "      <td>positive</td>\n",
       "      <td>1999-10-08 00:00:00</td>\n",
       "      <td>EVERY book is educational</td>\n",
       "      <td>this witty little book makes my son laugh at l...</td>\n",
       "      <td>witty little book makes son laugh loud recite ...</td>\n",
       "      <td>witti littl book make son laugh loud recit car...</td>\n",
       "      <td>b'witty little book makes son laugh loud recit...</td>\n",
       "      <td>b'witti littl book make son laugh loud recit c...</td>\n",
       "    </tr>\n",
       "    <tr>\n",
       "      <th>30</th>\n",
       "      <td>150501</td>\n",
       "      <td>0006641040</td>\n",
       "      <td>AJ46FKXOVC7NR</td>\n",
       "      <td>Nicholas A Mesiano</td>\n",
       "      <td>2</td>\n",
       "      <td>2</td>\n",
       "      <td>positive</td>\n",
       "      <td>1999-10-25 00:00:00</td>\n",
       "      <td>This whole series is great way to spend time w...</td>\n",
       "      <td>I can remember seeing the show when it aired o...</td>\n",
       "      <td>remember seeing show aired television years ag...</td>\n",
       "      <td>rememb see show air televis year ago child sis...</td>\n",
       "      <td>b'remember seeing show aired television years ...</td>\n",
       "      <td>b'rememb see show air televis year ago child s...</td>\n",
       "    </tr>\n",
       "    <tr>\n",
       "      <th>424</th>\n",
       "      <td>451856</td>\n",
       "      <td>B00004CXX9</td>\n",
       "      <td>AIUWLEQ1ADEG5</td>\n",
       "      <td>Elizabeth Medina</td>\n",
       "      <td>0</td>\n",
       "      <td>0</td>\n",
       "      <td>positive</td>\n",
       "      <td>1999-12-02 00:00:00</td>\n",
       "      <td>Entertainingl Funny!</td>\n",
       "      <td>Beetlejuice is a well written movie ..... ever...</td>\n",
       "      <td>beetlejuice well written movie everything exce...</td>\n",
       "      <td>beetlejuic well written movi everyth excel act...</td>\n",
       "      <td>b'beetlejuice well written movie everything ex...</td>\n",
       "      <td>b'beetlejuic well written movi everyth excel a...</td>\n",
       "    </tr>\n",
       "    <tr>\n",
       "      <th>330</th>\n",
       "      <td>374359</td>\n",
       "      <td>B00004CI84</td>\n",
       "      <td>A344SMIA5JECGM</td>\n",
       "      <td>Vincent P. Ross</td>\n",
       "      <td>1</td>\n",
       "      <td>2</td>\n",
       "      <td>positive</td>\n",
       "      <td>1999-12-06 00:00:00</td>\n",
       "      <td>A modern day fairy tale</td>\n",
       "      <td>A twist of rumplestiskin captured on film, sta...</td>\n",
       "      <td>twist rumplestiskin captured film starring mic...</td>\n",
       "      <td>twist rumplestiskin captur film star michael k...</td>\n",
       "      <td>b'twist rumplestiskin captured film starring m...</td>\n",
       "      <td>b'twist rumplestiskin captur film star michael...</td>\n",
       "    </tr>\n",
       "    <tr>\n",
       "      <th>423</th>\n",
       "      <td>451855</td>\n",
       "      <td>B00004CXX9</td>\n",
       "      <td>AJH6LUC1UT1ON</td>\n",
       "      <td>The Phantom of the Opera</td>\n",
       "      <td>0</td>\n",
       "      <td>0</td>\n",
       "      <td>positive</td>\n",
       "      <td>2000-01-03 00:00:00</td>\n",
       "      <td>FANTASTIC!</td>\n",
       "      <td>Beetlejuice is an excellent and funny movie. K...</td>\n",
       "      <td>beetlejuice excellent funny movie keaton hilar...</td>\n",
       "      <td>beetlejuic excel funni movi keaton hilari wack...</td>\n",
       "      <td>b'beetlejuice excellent funny movie keaton hil...</td>\n",
       "      <td>b'beetlejuic excel funni movi keaton hilari wa...</td>\n",
       "    </tr>\n",
       "  </tbody>\n",
       "</table>\n",
       "</div>"
      ],
      "text/plain": [
       "         Id   ProductId          UserId               ProfileName  \\\n",
       "0    150524  0006641040   ACITT7DI6IDDL           shari zychinski   \n",
       "30   150501  0006641040   AJ46FKXOVC7NR        Nicholas A Mesiano   \n",
       "424  451856  B00004CXX9   AIUWLEQ1ADEG5          Elizabeth Medina   \n",
       "330  374359  B00004CI84  A344SMIA5JECGM           Vincent P. Ross   \n",
       "423  451855  B00004CXX9   AJH6LUC1UT1ON  The Phantom of the Opera   \n",
       "\n",
       "     HelpfulnessNumerator  HelpfulnessDenominator     Score  \\\n",
       "0                       0                       0  positive   \n",
       "30                      2                       2  positive   \n",
       "424                     0                       0  positive   \n",
       "330                     1                       2  positive   \n",
       "423                     0                       0  positive   \n",
       "\n",
       "                    Time                                            Summary  \\\n",
       "0    1999-10-08 00:00:00                          EVERY book is educational   \n",
       "30   1999-10-25 00:00:00  This whole series is great way to spend time w...   \n",
       "424  1999-12-02 00:00:00                               Entertainingl Funny!   \n",
       "330  1999-12-06 00:00:00                            A modern day fairy tale   \n",
       "423  2000-01-03 00:00:00                                         FANTASTIC!   \n",
       "\n",
       "                                                  Text  \\\n",
       "0    this witty little book makes my son laugh at l...   \n",
       "30   I can remember seeing the show when it aired o...   \n",
       "424  Beetlejuice is a well written movie ..... ever...   \n",
       "330  A twist of rumplestiskin captured on film, sta...   \n",
       "423  Beetlejuice is an excellent and funny movie. K...   \n",
       "\n",
       "                                    CleanedText_NoStem  \\\n",
       "0    witty little book makes son laugh loud recite ...   \n",
       "30   remember seeing show aired television years ag...   \n",
       "424  beetlejuice well written movie everything exce...   \n",
       "330  twist rumplestiskin captured film starring mic...   \n",
       "423  beetlejuice excellent funny movie keaton hilar...   \n",
       "\n",
       "                                           CleanedText  \\\n",
       "0    witti littl book make son laugh loud recit car...   \n",
       "30   rememb see show air televis year ago child sis...   \n",
       "424  beetlejuic well written movi everyth excel act...   \n",
       "330  twist rumplestiskin captur film star michael k...   \n",
       "423  beetlejuic excel funni movi keaton hilari wack...   \n",
       "\n",
       "                                CleanedText_NoStem_utf  \\\n",
       "0    b'witty little book makes son laugh loud recit...   \n",
       "30   b'remember seeing show aired television years ...   \n",
       "424  b'beetlejuice well written movie everything ex...   \n",
       "330  b'twist rumplestiskin captured film starring m...   \n",
       "423  b'beetlejuice excellent funny movie keaton hil...   \n",
       "\n",
       "                                       CleanedText_utf  \n",
       "0    b'witti littl book make son laugh loud recit c...  \n",
       "30   b'rememb see show air televis year ago child s...  \n",
       "424  b'beetlejuic well written movi everyth excel a...  \n",
       "330  b'twist rumplestiskin captur film star michael...  \n",
       "423  b'beetlejuic excel funni movi keaton hilari wa...  "
      ]
     },
     "execution_count": 6,
     "metadata": {},
     "output_type": "execute_result"
    }
   ],
   "source": [
    "filtered_df.head()"
   ]
  },
  {
   "cell_type": "code",
   "execution_count": 7,
   "metadata": {},
   "outputs": [
    {
     "data": {
      "text/plain": [
       "positive    307058\n",
       "negative     57110\n",
       "Name: Score, dtype: int64"
      ]
     },
     "execution_count": 7,
     "metadata": {},
     "output_type": "execute_result"
    }
   ],
   "source": [
    "filtered_df['Score'].value_counts()"
   ]
  },
  {
   "cell_type": "code",
   "execution_count": 8,
   "metadata": {},
   "outputs": [
    {
     "name": "stderr",
     "output_type": "stream",
     "text": [
      "100%|██████████| 364171/364171 [00:06<00:00, 56433.62it/s]\n"
     ]
    }
   ],
   "source": [
    "# Splitting all the words into a list \n",
    "    i=0\n",
    "    all_words=[]\n",
    "    for sent in tqdm(final['CleanedText_NoStem'].astype(str).values):\n",
    "        for w in sent.split():\n",
    "            w=(w.lower())\n",
    "            all_words.append(w)\n"
   ]
  },
  {
   "cell_type": "code",
   "execution_count": 9,
   "metadata": {},
   "outputs": [
    {
     "name": "stdout",
     "output_type": "stream",
     "text": [
      "frequenies of Words :  [('not', 198672), ('like', 152093), ('good', 121423), ('great', 106024), ('one', 104198), ('taste', 102063), ('product', 95543), ('coffee', 85790), ('flavor', 85291), ('tea', 83561), ('love', 79221), ('would', 72981), ('get', 66662), ('really', 61746), ('food', 61246), ('dont', 57474), ('use', 56738), ('much', 56452), ('also', 53050), ('time', 51719)]\n"
     ]
    }
   ],
   "source": [
    "#printing top 20 most commonly occouring words with there frequency count\n",
    "freq_dist=nltk.FreqDist(all_words)\n",
    "print(\"frequenies of Words : \",freq_dist.most_common(20))"
   ]
  },
  {
   "cell_type": "code",
   "execution_count": 10,
   "metadata": {},
   "outputs": [],
   "source": [
    "# converting frequency distribution to word vocabulary\n",
    "vocabulary = dict(freq_dist)"
   ]
  },
  {
   "cell_type": "code",
   "execution_count": 11,
   "metadata": {},
   "outputs": [
    {
     "name": "stdout",
     "output_type": "stream",
     "text": [
      "('witty', 11)\n",
      "('little', 51532)\n",
      "('book', 1518)\n",
      "('makes', 23825)\n",
      "('son', 6630)\n"
     ]
    }
   ],
   "source": [
    "iterator = iter(vocabulary.items())\n",
    "for i in range(5):\n",
    "    print(next(iterator))"
   ]
  },
  {
   "cell_type": "code",
   "execution_count": 12,
   "metadata": {},
   "outputs": [],
   "source": [
    "# Function to sort and Rank 'n' words in vocabulary \n",
    "def top_words(top,vocab):\n",
    "    #https://docs.python.org/3/library/operator.html\n",
    "    import operator\n",
    "    sorted_vocab = sorted(vocab.items(), key=operator.itemgetter(1),reverse = True)\n",
    "    sorted_vocab=sorted_vocab[1:top+1] # eliminated not by starting from index 1 \n",
    "    \n",
    "    ranking = dict()\n",
    "    rank = 1\n",
    "    for i in range(len(sorted_vocab)):\n",
    "        k = sorted_vocab[i][0]\n",
    "        ranking[k] = rank\n",
    "        rank+=1\n",
    "    return ranking"
   ]
  },
  {
   "cell_type": "code",
   "execution_count": 13,
   "metadata": {},
   "outputs": [],
   "source": [
    "top_rank_word = 5000\n",
    "ranking = top_words(top_rank_word, vocabulary)\n"
   ]
  },
  {
   "cell_type": "code",
   "execution_count": 14,
   "metadata": {},
   "outputs": [
    {
     "name": "stdout",
     "output_type": "stream",
     "text": [
      "top 5 words\n",
      "('like', 1)\n",
      "('good', 2)\n",
      "('great', 3)\n",
      "('one', 4)\n",
      "('taste', 5)\n"
     ]
    }
   ],
   "source": [
    "print(\"top 5 words\")\n",
    "iterator = iter(ranking.items())\n",
    "for i in range(5):\n",
    "    print(next(iterator))"
   ]
  },
  {
   "cell_type": "code",
   "execution_count": 15,
   "metadata": {},
   "outputs": [
    {
     "data": {
      "text/plain": [
       "5000"
      ]
     },
     "execution_count": 15,
     "metadata": {},
     "output_type": "execute_result"
    }
   ],
   "source": [
    "len(ranking)"
   ]
  },
  {
   "cell_type": "code",
   "execution_count": 16,
   "metadata": {},
   "outputs": [
    {
     "name": "stderr",
     "output_type": "stream",
     "text": [
      "100%|██████████| 364171/364171 [00:09<00:00, 37010.97it/s]\n"
     ]
    },
    {
     "data": {
      "text/html": [
       "<div>\n",
       "<style scoped>\n",
       "    .dataframe tbody tr th:only-of-type {\n",
       "        vertical-align: middle;\n",
       "    }\n",
       "\n",
       "    .dataframe tbody tr th {\n",
       "        vertical-align: top;\n",
       "    }\n",
       "\n",
       "    .dataframe thead th {\n",
       "        text-align: right;\n",
       "    }\n",
       "</style>\n",
       "<table border=\"1\" class=\"dataframe\">\n",
       "  <thead>\n",
       "    <tr style=\"text-align: right;\">\n",
       "      <th></th>\n",
       "      <th>Id</th>\n",
       "      <th>ProductId</th>\n",
       "      <th>UserId</th>\n",
       "      <th>ProfileName</th>\n",
       "      <th>HelpfulnessNumerator</th>\n",
       "      <th>HelpfulnessDenominator</th>\n",
       "      <th>Score</th>\n",
       "      <th>Time</th>\n",
       "      <th>Summary</th>\n",
       "      <th>Text</th>\n",
       "      <th>CleanedText_NoStem</th>\n",
       "      <th>CleanedText</th>\n",
       "      <th>CleanedText_NoStem_utf</th>\n",
       "      <th>CleanedText_utf</th>\n",
       "      <th>CleandText_NoStem_indexed</th>\n",
       "    </tr>\n",
       "  </thead>\n",
       "  <tbody>\n",
       "    <tr>\n",
       "      <th>0</th>\n",
       "      <td>150524</td>\n",
       "      <td>0006641040</td>\n",
       "      <td>ACITT7DI6IDDL</td>\n",
       "      <td>shari zychinski</td>\n",
       "      <td>0</td>\n",
       "      <td>0</td>\n",
       "      <td>1</td>\n",
       "      <td>1999-10-08 00:00:00</td>\n",
       "      <td>EVERY book is educational</td>\n",
       "      <td>this witty little book makes my son laugh at l...</td>\n",
       "      <td>witty little book makes son laugh loud recite ...</td>\n",
       "      <td>witti littl book make son laugh loud recit car...</td>\n",
       "      <td>b'witty little book makes son laugh loud recit...</td>\n",
       "      <td>b'witti littl book make son laugh loud recit c...</td>\n",
       "      <td>[0, 20, 1414, 77, 396, 4915, 4419, 0, 1267, 32...</td>\n",
       "    </tr>\n",
       "    <tr>\n",
       "      <th>30</th>\n",
       "      <td>150501</td>\n",
       "      <td>0006641040</td>\n",
       "      <td>AJ46FKXOVC7NR</td>\n",
       "      <td>Nicholas A Mesiano</td>\n",
       "      <td>2</td>\n",
       "      <td>2</td>\n",
       "      <td>1</td>\n",
       "      <td>1999-10-25 00:00:00</td>\n",
       "      <td>This whole series is great way to spend time w...</td>\n",
       "      <td>I can remember seeing the show when it aired o...</td>\n",
       "      <td>remember seeing show aired television years ag...</td>\n",
       "      <td>rememb see show air televis year ago child sis...</td>\n",
       "      <td>b'remember seeing show aired television years ...</td>\n",
       "      <td>b'rememb see show air televis year ago child s...</td>\n",
       "      <td>[625, 1609, 1300, 0, 0, 74, 294, 1079, 1453, 5...</td>\n",
       "    </tr>\n",
       "    <tr>\n",
       "      <th>424</th>\n",
       "      <td>451856</td>\n",
       "      <td>B00004CXX9</td>\n",
       "      <td>AIUWLEQ1ADEG5</td>\n",
       "      <td>Elizabeth Medina</td>\n",
       "      <td>0</td>\n",
       "      <td>0</td>\n",
       "      <td>1</td>\n",
       "      <td>1999-12-02 00:00:00</td>\n",
       "      <td>Entertainingl Funny!</td>\n",
       "      <td>Beetlejuice is a well written movie ..... ever...</td>\n",
       "      <td>beetlejuice well written movie everything exce...</td>\n",
       "      <td>beetlejuic well written movi everyth excel act...</td>\n",
       "      <td>b'beetlejuice well written movie everything ex...</td>\n",
       "      <td>b'beetlejuic well written movi everyth excel a...</td>\n",
       "      <td>[0, 30, 2338, 1534, 330, 160, 0, 455, 1219, 14...</td>\n",
       "    </tr>\n",
       "    <tr>\n",
       "      <th>330</th>\n",
       "      <td>374359</td>\n",
       "      <td>B00004CI84</td>\n",
       "      <td>A344SMIA5JECGM</td>\n",
       "      <td>Vincent P. Ross</td>\n",
       "      <td>1</td>\n",
       "      <td>2</td>\n",
       "      <td>1</td>\n",
       "      <td>1999-12-06 00:00:00</td>\n",
       "      <td>A modern day fairy tale</td>\n",
       "      <td>A twist of rumplestiskin captured on film, sta...</td>\n",
       "      <td>twist rumplestiskin captured film starring mic...</td>\n",
       "      <td>twist rumplestiskin captur film star michael k...</td>\n",
       "      <td>b'twist rumplestiskin captured film starring m...</td>\n",
       "      <td>b'twist rumplestiskin captur film star michael...</td>\n",
       "      <td>[2594, 0, 0, 3425, 0, 0, 0, 0, 0, 992, 4198, 0...</td>\n",
       "    </tr>\n",
       "    <tr>\n",
       "      <th>423</th>\n",
       "      <td>451855</td>\n",
       "      <td>B00004CXX9</td>\n",
       "      <td>AJH6LUC1UT1ON</td>\n",
       "      <td>The Phantom of the Opera</td>\n",
       "      <td>0</td>\n",
       "      <td>0</td>\n",
       "      <td>1</td>\n",
       "      <td>2000-01-03 00:00:00</td>\n",
       "      <td>FANTASTIC!</td>\n",
       "      <td>Beetlejuice is an excellent and funny movie. K...</td>\n",
       "      <td>beetlejuice excellent funny movie keaton hilar...</td>\n",
       "      <td>beetlejuic excel funni movi keaton hilari wack...</td>\n",
       "      <td>b'beetlejuice excellent funny movie keaton hil...</td>\n",
       "      <td>b'beetlejuic excel funni movi keaton hilari wa...</td>\n",
       "      <td>[0, 160, 1631, 1534, 0, 0, 0, 0, 3, 455, 1219,...</td>\n",
       "    </tr>\n",
       "  </tbody>\n",
       "</table>\n",
       "</div>"
      ],
      "text/plain": [
       "         Id   ProductId          UserId               ProfileName  \\\n",
       "0    150524  0006641040   ACITT7DI6IDDL           shari zychinski   \n",
       "30   150501  0006641040   AJ46FKXOVC7NR        Nicholas A Mesiano   \n",
       "424  451856  B00004CXX9   AIUWLEQ1ADEG5          Elizabeth Medina   \n",
       "330  374359  B00004CI84  A344SMIA5JECGM           Vincent P. Ross   \n",
       "423  451855  B00004CXX9   AJH6LUC1UT1ON  The Phantom of the Opera   \n",
       "\n",
       "     HelpfulnessNumerator  HelpfulnessDenominator  Score                 Time  \\\n",
       "0                       0                       0      1  1999-10-08 00:00:00   \n",
       "30                      2                       2      1  1999-10-25 00:00:00   \n",
       "424                     0                       0      1  1999-12-02 00:00:00   \n",
       "330                     1                       2      1  1999-12-06 00:00:00   \n",
       "423                     0                       0      1  2000-01-03 00:00:00   \n",
       "\n",
       "                                               Summary  \\\n",
       "0                            EVERY book is educational   \n",
       "30   This whole series is great way to spend time w...   \n",
       "424                               Entertainingl Funny!   \n",
       "330                            A modern day fairy tale   \n",
       "423                                         FANTASTIC!   \n",
       "\n",
       "                                                  Text  \\\n",
       "0    this witty little book makes my son laugh at l...   \n",
       "30   I can remember seeing the show when it aired o...   \n",
       "424  Beetlejuice is a well written movie ..... ever...   \n",
       "330  A twist of rumplestiskin captured on film, sta...   \n",
       "423  Beetlejuice is an excellent and funny movie. K...   \n",
       "\n",
       "                                    CleanedText_NoStem  \\\n",
       "0    witty little book makes son laugh loud recite ...   \n",
       "30   remember seeing show aired television years ag...   \n",
       "424  beetlejuice well written movie everything exce...   \n",
       "330  twist rumplestiskin captured film starring mic...   \n",
       "423  beetlejuice excellent funny movie keaton hilar...   \n",
       "\n",
       "                                           CleanedText  \\\n",
       "0    witti littl book make son laugh loud recit car...   \n",
       "30   rememb see show air televis year ago child sis...   \n",
       "424  beetlejuic well written movi everyth excel act...   \n",
       "330  twist rumplestiskin captur film star michael k...   \n",
       "423  beetlejuic excel funni movi keaton hilari wack...   \n",
       "\n",
       "                                CleanedText_NoStem_utf  \\\n",
       "0    b'witty little book makes son laugh loud recit...   \n",
       "30   b'remember seeing show aired television years ...   \n",
       "424  b'beetlejuice well written movie everything ex...   \n",
       "330  b'twist rumplestiskin captured film starring m...   \n",
       "423  b'beetlejuice excellent funny movie keaton hil...   \n",
       "\n",
       "                                       CleanedText_utf  \\\n",
       "0    b'witti littl book make son laugh loud recit c...   \n",
       "30   b'rememb see show air televis year ago child s...   \n",
       "424  b'beetlejuic well written movi everyth excel a...   \n",
       "330  b'twist rumplestiskin captur film star michael...   \n",
       "423  b'beetlejuic excel funni movi keaton hilari wa...   \n",
       "\n",
       "                             CleandText_NoStem_indexed  \n",
       "0    [0, 20, 1414, 77, 396, 4915, 4419, 0, 1267, 32...  \n",
       "30   [625, 1609, 1300, 0, 0, 74, 294, 1079, 1453, 5...  \n",
       "424  [0, 30, 2338, 1534, 330, 160, 0, 455, 1219, 14...  \n",
       "330  [2594, 0, 0, 3425, 0, 0, 0, 0, 0, 992, 4198, 0...  \n",
       "423  [0, 160, 1631, 1534, 0, 0, 0, 0, 3, 455, 1219,...  "
      ]
     },
     "execution_count": 16,
     "metadata": {},
     "output_type": "execute_result"
    }
   ],
   "source": [
    "# replacing every all words in every single review with ranks of of the words and converting all reviews into ranked word reviews\n",
    "\"\"\"\n",
    "Very Very slow technique\n",
    "X = []    \n",
    "for sent in tqdm(final['CleanedText_NoStem'].astype(str).values):\n",
    "    row =[]\n",
    "    for w in sent.split():\n",
    "        for key, value in ranking.items():\n",
    "            if w == key:\n",
    "                row.append(value)\n",
    "            else:\n",
    "                row.append(0)\n",
    "            \n",
    "    X.append(row)\"\"\"    \n",
    "\n",
    "# alternate equivalent technique to above and very very fast\n",
    "X = []    \n",
    "for sent in tqdm(final['CleanedText_NoStem'].astype(str).values):\n",
    "    row =[]\n",
    "    for w in sent.split():\n",
    "        if w in ranking:\n",
    "            row.append(ranking[w]) \n",
    "        else:\n",
    "            row.append(0)    \n",
    "            \n",
    "    X.append(row)\n",
    "    \n",
    "final['CleandText_NoStem_indexed'] = X\n",
    "\n",
    "final['Score'] = final['Score'].map(lambda x : 1 if x == 'positive' else 0)\n",
    "final.head(5)"
   ]
  },
  {
   "cell_type": "code",
   "execution_count": 17,
   "metadata": {},
   "outputs": [],
   "source": [
    "#Taking sample Data\n",
    "n_samples = 100000\n",
    "sample = final.head(n_samples)"
   ]
  },
  {
   "cell_type": "code",
   "execution_count": 18,
   "metadata": {},
   "outputs": [
    {
     "data": {
      "text/html": [
       "<div>\n",
       "<style scoped>\n",
       "    .dataframe tbody tr th:only-of-type {\n",
       "        vertical-align: middle;\n",
       "    }\n",
       "\n",
       "    .dataframe tbody tr th {\n",
       "        vertical-align: top;\n",
       "    }\n",
       "\n",
       "    .dataframe thead th {\n",
       "        text-align: right;\n",
       "    }\n",
       "</style>\n",
       "<table border=\"1\" class=\"dataframe\">\n",
       "  <thead>\n",
       "    <tr style=\"text-align: right;\">\n",
       "      <th></th>\n",
       "      <th>Id</th>\n",
       "      <th>ProductId</th>\n",
       "      <th>UserId</th>\n",
       "      <th>ProfileName</th>\n",
       "      <th>HelpfulnessNumerator</th>\n",
       "      <th>HelpfulnessDenominator</th>\n",
       "      <th>Score</th>\n",
       "      <th>Time</th>\n",
       "      <th>Summary</th>\n",
       "      <th>Text</th>\n",
       "      <th>CleanedText_NoStem</th>\n",
       "      <th>CleanedText</th>\n",
       "      <th>CleanedText_NoStem_utf</th>\n",
       "      <th>CleanedText_utf</th>\n",
       "      <th>CleandText_NoStem_indexed</th>\n",
       "    </tr>\n",
       "  </thead>\n",
       "  <tbody>\n",
       "    <tr>\n",
       "      <th>0</th>\n",
       "      <td>150524</td>\n",
       "      <td>0006641040</td>\n",
       "      <td>ACITT7DI6IDDL</td>\n",
       "      <td>shari zychinski</td>\n",
       "      <td>0</td>\n",
       "      <td>0</td>\n",
       "      <td>1</td>\n",
       "      <td>1999-10-08 00:00:00</td>\n",
       "      <td>EVERY book is educational</td>\n",
       "      <td>this witty little book makes my son laugh at l...</td>\n",
       "      <td>witty little book makes son laugh loud recite ...</td>\n",
       "      <td>witti littl book make son laugh loud recit car...</td>\n",
       "      <td>b'witty little book makes son laugh loud recit...</td>\n",
       "      <td>b'witti littl book make son laugh loud recit c...</td>\n",
       "      <td>[0, 20, 1414, 77, 396, 4915, 4419, 0, 1267, 32...</td>\n",
       "    </tr>\n",
       "    <tr>\n",
       "      <th>30</th>\n",
       "      <td>150501</td>\n",
       "      <td>0006641040</td>\n",
       "      <td>AJ46FKXOVC7NR</td>\n",
       "      <td>Nicholas A Mesiano</td>\n",
       "      <td>2</td>\n",
       "      <td>2</td>\n",
       "      <td>1</td>\n",
       "      <td>1999-10-25 00:00:00</td>\n",
       "      <td>This whole series is great way to spend time w...</td>\n",
       "      <td>I can remember seeing the show when it aired o...</td>\n",
       "      <td>remember seeing show aired television years ag...</td>\n",
       "      <td>rememb see show air televis year ago child sis...</td>\n",
       "      <td>b'remember seeing show aired television years ...</td>\n",
       "      <td>b'rememb see show air televis year ago child s...</td>\n",
       "      <td>[625, 1609, 1300, 0, 0, 74, 294, 1079, 1453, 5...</td>\n",
       "    </tr>\n",
       "    <tr>\n",
       "      <th>424</th>\n",
       "      <td>451856</td>\n",
       "      <td>B00004CXX9</td>\n",
       "      <td>AIUWLEQ1ADEG5</td>\n",
       "      <td>Elizabeth Medina</td>\n",
       "      <td>0</td>\n",
       "      <td>0</td>\n",
       "      <td>1</td>\n",
       "      <td>1999-12-02 00:00:00</td>\n",
       "      <td>Entertainingl Funny!</td>\n",
       "      <td>Beetlejuice is a well written movie ..... ever...</td>\n",
       "      <td>beetlejuice well written movie everything exce...</td>\n",
       "      <td>beetlejuic well written movi everyth excel act...</td>\n",
       "      <td>b'beetlejuice well written movie everything ex...</td>\n",
       "      <td>b'beetlejuic well written movi everyth excel a...</td>\n",
       "      <td>[0, 30, 2338, 1534, 330, 160, 0, 455, 1219, 14...</td>\n",
       "    </tr>\n",
       "    <tr>\n",
       "      <th>330</th>\n",
       "      <td>374359</td>\n",
       "      <td>B00004CI84</td>\n",
       "      <td>A344SMIA5JECGM</td>\n",
       "      <td>Vincent P. Ross</td>\n",
       "      <td>1</td>\n",
       "      <td>2</td>\n",
       "      <td>1</td>\n",
       "      <td>1999-12-06 00:00:00</td>\n",
       "      <td>A modern day fairy tale</td>\n",
       "      <td>A twist of rumplestiskin captured on film, sta...</td>\n",
       "      <td>twist rumplestiskin captured film starring mic...</td>\n",
       "      <td>twist rumplestiskin captur film star michael k...</td>\n",
       "      <td>b'twist rumplestiskin captured film starring m...</td>\n",
       "      <td>b'twist rumplestiskin captur film star michael...</td>\n",
       "      <td>[2594, 0, 0, 3425, 0, 0, 0, 0, 0, 992, 4198, 0...</td>\n",
       "    </tr>\n",
       "    <tr>\n",
       "      <th>423</th>\n",
       "      <td>451855</td>\n",
       "      <td>B00004CXX9</td>\n",
       "      <td>AJH6LUC1UT1ON</td>\n",
       "      <td>The Phantom of the Opera</td>\n",
       "      <td>0</td>\n",
       "      <td>0</td>\n",
       "      <td>1</td>\n",
       "      <td>2000-01-03 00:00:00</td>\n",
       "      <td>FANTASTIC!</td>\n",
       "      <td>Beetlejuice is an excellent and funny movie. K...</td>\n",
       "      <td>beetlejuice excellent funny movie keaton hilar...</td>\n",
       "      <td>beetlejuic excel funni movi keaton hilari wack...</td>\n",
       "      <td>b'beetlejuice excellent funny movie keaton hil...</td>\n",
       "      <td>b'beetlejuic excel funni movi keaton hilari wa...</td>\n",
       "      <td>[0, 160, 1631, 1534, 0, 0, 0, 0, 3, 455, 1219,...</td>\n",
       "    </tr>\n",
       "  </tbody>\n",
       "</table>\n",
       "</div>"
      ],
      "text/plain": [
       "         Id   ProductId          UserId               ProfileName  \\\n",
       "0    150524  0006641040   ACITT7DI6IDDL           shari zychinski   \n",
       "30   150501  0006641040   AJ46FKXOVC7NR        Nicholas A Mesiano   \n",
       "424  451856  B00004CXX9   AIUWLEQ1ADEG5          Elizabeth Medina   \n",
       "330  374359  B00004CI84  A344SMIA5JECGM           Vincent P. Ross   \n",
       "423  451855  B00004CXX9   AJH6LUC1UT1ON  The Phantom of the Opera   \n",
       "\n",
       "     HelpfulnessNumerator  HelpfulnessDenominator  Score                 Time  \\\n",
       "0                       0                       0      1  1999-10-08 00:00:00   \n",
       "30                      2                       2      1  1999-10-25 00:00:00   \n",
       "424                     0                       0      1  1999-12-02 00:00:00   \n",
       "330                     1                       2      1  1999-12-06 00:00:00   \n",
       "423                     0                       0      1  2000-01-03 00:00:00   \n",
       "\n",
       "                                               Summary  \\\n",
       "0                            EVERY book is educational   \n",
       "30   This whole series is great way to spend time w...   \n",
       "424                               Entertainingl Funny!   \n",
       "330                            A modern day fairy tale   \n",
       "423                                         FANTASTIC!   \n",
       "\n",
       "                                                  Text  \\\n",
       "0    this witty little book makes my son laugh at l...   \n",
       "30   I can remember seeing the show when it aired o...   \n",
       "424  Beetlejuice is a well written movie ..... ever...   \n",
       "330  A twist of rumplestiskin captured on film, sta...   \n",
       "423  Beetlejuice is an excellent and funny movie. K...   \n",
       "\n",
       "                                    CleanedText_NoStem  \\\n",
       "0    witty little book makes son laugh loud recite ...   \n",
       "30   remember seeing show aired television years ag...   \n",
       "424  beetlejuice well written movie everything exce...   \n",
       "330  twist rumplestiskin captured film starring mic...   \n",
       "423  beetlejuice excellent funny movie keaton hilar...   \n",
       "\n",
       "                                           CleanedText  \\\n",
       "0    witti littl book make son laugh loud recit car...   \n",
       "30   rememb see show air televis year ago child sis...   \n",
       "424  beetlejuic well written movi everyth excel act...   \n",
       "330  twist rumplestiskin captur film star michael k...   \n",
       "423  beetlejuic excel funni movi keaton hilari wack...   \n",
       "\n",
       "                                CleanedText_NoStem_utf  \\\n",
       "0    b'witty little book makes son laugh loud recit...   \n",
       "30   b'remember seeing show aired television years ...   \n",
       "424  b'beetlejuice well written movie everything ex...   \n",
       "330  b'twist rumplestiskin captured film starring m...   \n",
       "423  b'beetlejuice excellent funny movie keaton hil...   \n",
       "\n",
       "                                       CleanedText_utf  \\\n",
       "0    b'witti littl book make son laugh loud recit c...   \n",
       "30   b'rememb see show air televis year ago child s...   \n",
       "424  b'beetlejuic well written movi everyth excel a...   \n",
       "330  b'twist rumplestiskin captur film star michael...   \n",
       "423  b'beetlejuic excel funni movi keaton hilari wa...   \n",
       "\n",
       "                             CleandText_NoStem_indexed  \n",
       "0    [0, 20, 1414, 77, 396, 4915, 4419, 0, 1267, 32...  \n",
       "30   [625, 1609, 1300, 0, 0, 74, 294, 1079, 1453, 5...  \n",
       "424  [0, 30, 2338, 1534, 330, 160, 0, 455, 1219, 14...  \n",
       "330  [2594, 0, 0, 3425, 0, 0, 0, 0, 0, 992, 4198, 0...  \n",
       "423  [0, 160, 1631, 1534, 0, 0, 0, 0, 3, 455, 1219,...  "
      ]
     },
     "execution_count": 18,
     "metadata": {},
     "output_type": "execute_result"
    }
   ],
   "source": [
    "sample.head()"
   ]
  },
  {
   "cell_type": "code",
   "execution_count": 19,
   "metadata": {},
   "outputs": [
    {
     "name": "stdout",
     "output_type": "stream",
     "text": [
      "Shortest review: 1\n",
      "Longest revies: 1349\n"
     ]
    }
   ],
   "source": [
    "review_lengths = [len(review) for review in X]\n",
    "print(\"Shortest review:\", min(review_lengths))\n",
    "print(\"Longest revies:\",max(review_lengths))"
   ]
  },
  {
   "cell_type": "code",
   "execution_count": 20,
   "metadata": {},
   "outputs": [
    {
     "name": "stderr",
     "output_type": "stream",
     "text": [
      "/opt/anaconda3/lib/python3.6/site-packages/matplotlib/axes/_axes.py:6462: UserWarning: The 'normed' kwarg is deprecated, and has been replaced by the 'density' kwarg.\n",
      "  warnings.warn(\"The 'normed' kwarg is deprecated, and has been \"\n"
     ]
    },
    {
     "data": {
      "text/plain": [
       "[]"
      ]
     },
     "execution_count": 20,
     "metadata": {},
     "output_type": "execute_result"
    },
    {
     "data": {
      "image/png": "[encoded data removed]",
      "text/plain": [
       "<Figure size 432x288 with 1 Axes>"
      ]
     },
     "metadata": {},
     "output_type": "display_data"
    }
   ],
   "source": [
    "# plotting distributions of reviews lengths\n",
    "ax = plt.axes()\n",
    "sb.distplot(review_lengths)\n",
    "ax.set_title(\"Distribution of the review lengths\")\n",
    "plt.plot()"
   ]
  },
  {
   "cell_type": "markdown",
   "metadata": {},
   "source": [
    "from above plot it could be observed that most of the review length lies between 1 - 200 which means even if we try to try to 0 pad reviews to 300, 400, 500 we will not loose much information"
   ]
  },
  {
   "cell_type": "code",
   "execution_count": 21,
   "metadata": {},
   "outputs": [],
   "source": [
    "# splitting reviews between train, test and Validation\n",
    "from sklearn.model_selection import train_test_split\n",
    "X_train , X_test , y_train , y_test = train_test_split(sample['CleandText_NoStem_indexed'].values,sample['Score'],test_size = 0.3,random_state = 0,shuffle = False)"
   ]
  },
  {
   "cell_type": "code",
   "execution_count": 22,
   "metadata": {},
   "outputs": [
    {
     "name": "stdout",
     "output_type": "stream",
     "text": [
      "(70000,)\n",
      "(70000,)\n",
      "(30000,)\n",
      "(30000,)\n"
     ]
    }
   ],
   "source": [
    "print(X_train.shape)\n",
    "print(y_train.shape)\n",
    "print(X_test.shape)\n",
    "print(y_test.shape)"
   ]
  },
  {
   "cell_type": "code",
   "execution_count": 23,
   "metadata": {},
   "outputs": [],
   "source": [
    "X_train , X_val , y_train , y_val = train_test_split(X_train,y_train,test_size = 0.3,random_state = 0,shuffle = False)"
   ]
  },
  {
   "cell_type": "code",
   "execution_count": 24,
   "metadata": {},
   "outputs": [
    {
     "name": "stdout",
     "output_type": "stream",
     "text": [
      "(49000,)\n",
      "(49000,)\n",
      "(30000,)\n",
      "(30000,)\n",
      "(21000,)\n",
      "(21000,)\n"
     ]
    }
   ],
   "source": [
    "print(X_train.shape)\n",
    "print(y_train.shape)\n",
    "print(X_test.shape)\n",
    "print(y_test.shape)\n",
    "print(X_val.shape)\n",
    "print(y_val.shape)"
   ]
  },
  {
   "cell_type": "code",
   "execution_count": 25,
   "metadata": {},
   "outputs": [
    {
     "name": "stdout",
     "output_type": "stream",
     "text": [
      "[625, 1609, 1300, 0, 0, 74, 294, 1079, 1453, 552, 41, 58, 4711, 0, 36, 4460, 3288, 0, 3432, 0, 0, 698, 109, 1092, 612, 506, 3288, 872, 3424, 1971]\n",
      "<class 'list'>\n",
      "30\n"
     ]
    }
   ],
   "source": [
    "print(X_train[1])\n",
    "print(type(X_train[1]))\n",
    "print(len(X_train[1]))"
   ]
  },
  {
   "cell_type": "code",
   "execution_count": 26,
   "metadata": {},
   "outputs": [
    {
     "name": "stdout",
     "output_type": "stream",
     "text": [
      "(49000, 500)\n",
      "[   0    0    0    0    0    0    0    0    0    0    0    0    0    0\n",
      "    0    0    0    0    0    0    0    0    0    0    0    0    0    0\n",
      "    0    0    0    0    0    0    0    0    0    0    0    0    0    0\n",
      "    0    0    0    0    0    0    0    0    0    0    0    0    0    0\n",
      "    0    0    0    0    0    0    0    0    0    0    0    0    0    0\n",
      "    0    0    0    0    0    0    0    0    0    0    0    0    0    0\n",
      "    0    0    0    0    0    0    0    0    0    0    0    0    0    0\n",
      "    0    0    0    0    0    0    0    0    0    0    0    0    0    0\n",
      "    0    0    0    0    0    0    0    0    0    0    0    0    0    0\n",
      "    0    0    0    0    0    0    0    0    0    0    0    0    0    0\n",
      "    0    0    0    0    0    0    0    0    0    0    0    0    0    0\n",
      "    0    0    0    0    0    0    0    0    0    0    0    0    0    0\n",
      "    0    0    0    0    0    0    0    0    0    0    0    0    0    0\n",
      "    0    0    0    0    0    0    0    0    0    0    0    0    0    0\n",
      "    0    0    0    0    0    0    0    0    0    0    0    0    0    0\n",
      "    0    0    0    0    0    0    0    0    0    0    0    0    0    0\n",
      "    0    0    0    0    0    0    0    0    0    0    0    0    0    0\n",
      "    0    0    0    0    0    0    0    0    0    0    0    0    0    0\n",
      "    0    0    0    0    0    0    0    0    0    0    0    0    0    0\n",
      "    0    0    0    0    0    0    0    0    0    0    0    0    0    0\n",
      "    0    0    0    0    0    0    0    0    0    0    0    0    0    0\n",
      "    0    0    0    0    0    0    0    0    0    0    0    0    0    0\n",
      "    0    0    0    0    0    0    0    0    0    0    0    0    0    0\n",
      "    0    0    0    0    0    0    0    0    0    0    0    0    0    0\n",
      "    0    0    0    0    0    0    0    0    0    0    0    0    0    0\n",
      "    0    0    0    0    0    0    0    0    0    0    0    0    0    0\n",
      "    0    0    0    0    0    0    0    0    0    0    0    0    0    0\n",
      "    0    0    0    0    0    0    0    0    0    0    0    0    0    0\n",
      "    0    0    0    0    0    0    0    0    0    0    0    0    0    0\n",
      "    0    0    0    0    0    0    0    0    0    0    0    0    0    0\n",
      "    0    0    0    0    0    0    0    0    0    0    0    0    0    0\n",
      "    0    0    0    0    0    0    0    0    0    0    0    0    0    0\n",
      "    0    0    0    0    0    0    0    0    0    0    0    0    0    0\n",
      "    0    0    0    0    0    0    0    0  625 1609 1300    0    0   74\n",
      "  294 1079 1453  552   41   58 4711    0   36 4460 3288    0 3432    0\n",
      "    0  698  109 1092  612  506 3288  872 3424 1971]\n"
     ]
    }
   ],
   "source": [
    "# Applying 0 padding to equalize all the reviews\n",
    "# truncate and/or pad input sequences\n",
    "max_review_length = 500\n",
    "X_train = sequence.pad_sequences(X_train, maxlen=max_review_length)\n",
    "X_test = sequence.pad_sequences(X_test, maxlen=max_review_length)\n",
    "X_val = sequence.pad_sequences(X_val, maxlen=max_review_length)\n",
    "print(X_train.shape)\n",
    "print(X_train[1])"
   ]
  },
  {
   "cell_type": "code",
   "execution_count": 27,
   "metadata": {},
   "outputs": [
    {
     "name": "stdout",
     "output_type": "stream",
     "text": [
      "(49000, 500)\n",
      "(49000,)\n",
      "(30000, 500)\n",
      "(30000,)\n",
      "(21000, 500)\n",
      "(21000,)\n"
     ]
    }
   ],
   "source": [
    "print(X_train.shape)\n",
    "print(y_train.shape)\n",
    "print(X_test.shape)\n",
    "print(y_test.shape)\n",
    "print(X_val.shape)\n",
    "print(y_val.shape)"
   ]
  },
  {
   "cell_type": "code",
   "execution_count": null,
   "metadata": {},
   "outputs": [],
   "source": [
    "#### Function "
   ]
  },
  {
   "cell_type": "code",
   "execution_count": 28,
   "metadata": {},
   "outputs": [],
   "source": [
    "%matplotlib inline\n",
    "import matplotlib.pyplot as plt\n",
    "import numpy as np\n",
    "import time\n",
    "# https://gist.github.com/greydanus/f6eee59eaf1d90fcb3b534a25362cea4\n",
    "# https://stackoverflow.com/a/14434334\n",
    "# this function is used to update the plots for each epoch and error\n",
    "def plot_dynamic(x, vy, ty, ax, colors=['b']):\n",
    "    ax.plot(x, vy, 'b', label=\"Validation Loss\")\n",
    "    ax.plot(x, ty, 'r', label=\"Train Loss\")\n",
    "    plt.legend()\n",
    "    plt.grid()\n",
    "    fig.canvas.draw()"
   ]
  },
  {
   "cell_type": "markdown",
   "metadata": {},
   "source": [
    "## **1 Layered LSTM using Keras (LSTM(100))**"
   ]
  },
  {
   "cell_type": "code",
   "execution_count": 29,
   "metadata": {},
   "outputs": [
    {
     "name": "stdout",
     "output_type": "stream",
     "text": [
      "_________________________________________________________________\n",
      "Layer (type)                 Output Shape              Param #   \n",
      "=================================================================\n",
      "embedding_1 (Embedding)      (None, 500, 32)           160000    \n",
      "_________________________________________________________________\n",
      "dropout_1 (Dropout)          (None, 500, 32)           0         \n",
      "_________________________________________________________________\n",
      "lstm_1 (LSTM)                (None, 100)               53200     \n",
      "_________________________________________________________________\n",
      "dropout_2 (Dropout)          (None, 100)               0         \n",
      "_________________________________________________________________\n",
      "dense_1 (Dense)              (None, 1)                 101       \n",
      "=================================================================\n",
      "Total params: 213,301\n",
      "Trainable params: 213,301\n",
      "Non-trainable params: 0\n",
      "_________________________________________________________________\n",
      "None\n"
     ]
    }
   ],
   "source": [
    "# create the model\n",
    "from keras.layers import Dropout\n",
    "embedding_vecor_length = 32\n",
    "model = Sequential()\n",
    "model.add(Embedding(top_rank_word, embedding_vecor_length, input_length=max_review_length))\n",
    "model.add(Dropout(0.5))\n",
    "\n",
    "model.add(LSTM(100))\n",
    "model.add(Dropout(0.5))\n",
    "\n",
    "model.add(Dense(1, activation='sigmoid'))\n",
    "model.compile(loss='binary_crossentropy', optimizer='adam', metrics=['accuracy'])\n",
    "print(model.summary())"
   ]
  },
  {
   "cell_type": "code",
   "execution_count": 31,
   "metadata": {},
   "outputs": [
    {
     "name": "stdout",
     "output_type": "stream",
     "text": [
      "Train on 49000 samples, validate on 21000 samples\n",
      "Epoch 1/10\n",
      "49000/49000 [==============================] - 262s 5ms/step - loss: 0.2346 - acc: 0.9103 - val_loss: 0.2195 - val_acc: 0.9135\n",
      "Epoch 2/10\n",
      "49000/49000 [==============================] - 261s 5ms/step - loss: 0.1687 - acc: 0.9373 - val_loss: 0.2045 - val_acc: 0.9213\n",
      "Epoch 3/10\n",
      "49000/49000 [==============================] - 261s 5ms/step - loss: 0.1674 - acc: 0.9365 - val_loss: 0.2552 - val_acc: 0.8920\n",
      "Epoch 4/10\n",
      "49000/49000 [==============================] - 262s 5ms/step - loss: 0.2136 - acc: 0.9152 - val_loss: 0.2351 - val_acc: 0.9088\n",
      "Epoch 5/10\n",
      "49000/49000 [==============================] - 262s 5ms/step - loss: 0.1520 - acc: 0.9432 - val_loss: 0.2092 - val_acc: 0.9200\n",
      "Epoch 6/10\n",
      "49000/49000 [==============================] - 262s 5ms/step - loss: 0.1396 - acc: 0.9481 - val_loss: 0.2116 - val_acc: 0.9206\n",
      "Epoch 7/10\n",
      "49000/49000 [==============================] - 262s 5ms/step - loss: 0.1351 - acc: 0.9509 - val_loss: 0.2145 - val_acc: 0.9181\n",
      "Epoch 8/10\n",
      "49000/49000 [==============================] - 264s 5ms/step - loss: 0.1299 - acc: 0.9539 - val_loss: 0.2230 - val_acc: 0.9179\n",
      "Epoch 9/10\n",
      "49000/49000 [==============================] - 260s 5ms/step - loss: 0.1256 - acc: 0.9549 - val_loss: 0.2353 - val_acc: 0.9205\n",
      "Epoch 10/10\n",
      "49000/49000 [==============================] - 261s 5ms/step - loss: 0.1216 - acc: 0.9569 - val_loss: 0.2263 - val_acc: 0.9191\n"
     ]
    }
   ],
   "source": [
    "history = model.fit(X_train, y_train, batch_size=256, epochs=10,verbose=1,validation_data=(X_val, y_val))"
   ]
  },
  {
   "cell_type": "code",
   "execution_count": 32,
   "metadata": {},
   "outputs": [
    {
     "name": "stdout",
     "output_type": "stream",
     "text": [
      "[INFO] evaluating...\n",
      "30000/30000 [==============================] - 85s 3ms/step\n",
      "[INFO] accuracy: 91.60%\n"
     ]
    }
   ],
   "source": [
    "# show the accuracy on the testing set\n",
    "print(\"[INFO] evaluating...\")\n",
    "(loss, accuracy) = model.evaluate(X_test, y_test,batch_size=128, verbose=1,)\n",
    "print(\"[INFO] accuracy: {:.2f}%\".format(accuracy * 100))"
   ]
  },
  {
   "cell_type": "code",
   "execution_count": 33,
   "metadata": {},
   "outputs": [
    {
     "name": "stdout",
     "output_type": "stream",
     "text": [
      "[INFO] accuracy: 91.91%\n"
     ]
    },
    {
     "data": {
      "image/png": "[encoded data removed]",
      "text/plain": [
       "<Figure size 432x288 with 1 Axes>"
      ]
     },
     "metadata": {},
     "output_type": "display_data"
    }
   ],
   "source": [
    "print(\"[INFO] accuracy: {:.2f}%\".format(history.history['val_acc'][-1] * 100))\n",
    "vy = history.history['val_loss']\n",
    "ty = history.history['loss']\n",
    "\n",
    "fig,ax = plt.subplots(1,1)\n",
    "ax.set_xlabel('epoch') ; ax.set_ylabel('Categorical Crossentropy Loss')\n",
    "\n",
    "# list of epoch numbers\n",
    "x = list(range(1,10+1))\n",
    "plot_dynamic(x, vy, ty, ax)"
   ]
  },
  {
   "cell_type": "markdown",
   "metadata": {},
   "source": [
    "- at epoch no. 4 Train_loss and Validation_loss have converged a lot but after that validation_loss is running at constant pace and train_loss is decreasing."
   ]
  },
  {
   "cell_type": "code",
   "execution_count": 39,
   "metadata": {},
   "outputs": [
    {
     "data": {
      "image/png": "[encoded data removed]",
      "text/plain": [
       "<Figure size 432x288 with 1 Axes>"
      ]
     },
     "metadata": {},
     "output_type": "display_data"
    }
   ],
   "source": [
    "\n",
    "vy = history.history['val_acc']\n",
    "ty = history.history['acc']\n",
    "\n",
    "fig,ax = plt.subplots(1,1)\n",
    "ax.set_xlabel('epoch') ; ax.set_ylabel('Accuracy')\n",
    "\n",
    "# list of epoch numbers\n",
    "x = list(range(1,10+1))\n",
    "plot_dynamic(x, vy, ty, ax)"
   ]
  },
  {
   "cell_type": "markdown",
   "metadata": {},
   "source": [
    "- *Validation loss, train Loss have been wrongly written as single function was used it must be Validation Accuracy and Train Accuracy\n",
    "- at epoch no. 4 we observe that the train and validation accuracy are best."
   ]
  },
  {
   "cell_type": "code",
   "execution_count": 34,
   "metadata": {},
   "outputs": [],
   "source": [
    "validation_loss = history.history['val_loss'][-1]\n",
    "validation_acc = history.history['val_acc'][-1]\n",
    "train_loss = history.history['loss'][-1]\n",
    "train_acc = history.history['acc'][-1]\n",
    "test_loss= loss\n",
    "test_acc= accuracy"
   ]
  },
  {
   "cell_type": "code",
   "execution_count": 35,
   "metadata": {},
   "outputs": [
    {
     "name": "stdout",
     "output_type": "stream",
     "text": [
      "0.2262719388433865 0.9191428571428572 0.1215683789715475 0.9568775510398709 0.2316194803317388 0.916\n"
     ]
    }
   ],
   "source": [
    "print(validation_loss,validation_acc,train_loss,train_acc,test_loss, test_acc)"
   ]
  },
  {
   "cell_type": "code",
   "execution_count": 36,
   "metadata": {},
   "outputs": [],
   "source": [
    "import pandas as pd\n",
    "LSTM_summary = pd.DataFrame()\n",
    "LSTM_summary['Model'] = [\"LSTM(100)\"]\n",
    "LSTM_summary['train_accuracy'] = train_acc.round(4)\n",
    "LSTM_summary['train_loss'] = train_loss.round(4)\n",
    "LSTM_summary['validation_accuracy'] = validation_acc.round(4)\n",
    "LSTM_summary['validation_loss'] = validation_loss.round(4)\n",
    "LSTM_summary['test_accuracy'] = test_acc.round(4)\n",
    "LSTM_summary['test_loss'] = test_loss.round(4)\n"
   ]
  },
  {
   "cell_type": "code",
   "execution_count": 37,
   "metadata": {},
   "outputs": [],
   "source": [
    "LSTM_summary.to_csv('LSTM_summary.csv', index=False)"
   ]
  },
  {
   "cell_type": "code",
   "execution_count": 38,
   "metadata": {},
   "outputs": [
    {
     "data": {
      "text/html": [
       "<div>\n",
       "<style scoped>\n",
       "    .dataframe tbody tr th:only-of-type {\n",
       "        vertical-align: middle;\n",
       "    }\n",
       "\n",
       "    .dataframe tbody tr th {\n",
       "        vertical-align: top;\n",
       "    }\n",
       "\n",
       "    .dataframe thead th {\n",
       "        text-align: right;\n",
       "    }\n",
       "</style>\n",
       "<table border=\"1\" class=\"dataframe\">\n",
       "  <thead>\n",
       "    <tr style=\"text-align: right;\">\n",
       "      <th></th>\n",
       "      <th>Model</th>\n",
       "      <th>train_accuracy</th>\n",
       "      <th>train_loss</th>\n",
       "      <th>validation_accuracy</th>\n",
       "      <th>validation_loss</th>\n",
       "      <th>test_accuracy</th>\n",
       "      <th>test_loss</th>\n",
       "    </tr>\n",
       "  </thead>\n",
       "  <tbody>\n",
       "    <tr>\n",
       "      <th>0</th>\n",
       "      <td>LSTM(100)</td>\n",
       "      <td>0.9569</td>\n",
       "      <td>0.1216</td>\n",
       "      <td>0.9191</td>\n",
       "      <td>0.2263</td>\n",
       "      <td>0.916</td>\n",
       "      <td>0.2316</td>\n",
       "    </tr>\n",
       "  </tbody>\n",
       "</table>\n",
       "</div>"
      ],
      "text/plain": [
       "       Model  train_accuracy  train_loss  validation_accuracy  \\\n",
       "0  LSTM(100)          0.9569      0.1216               0.9191   \n",
       "\n",
       "   validation_loss  test_accuracy  test_loss  \n",
       "0           0.2263          0.916     0.2316  "
      ]
     },
     "execution_count": 38,
     "metadata": {},
     "output_type": "execute_result"
    }
   ],
   "source": [
    "LSTM_summary"
   ]
  },
  {
   "cell_type": "code",
   "execution_count": null,
   "metadata": {},
   "outputs": [],
   "source": []
  },
  {
   "cell_type": "markdown",
   "metadata": {},
   "source": [
    "## **2 Layered LSTM using Keras (LSTM(100)-LSTM(50))**"
   ]
  },
  {
   "cell_type": "code",
   "execution_count": 29,
   "metadata": {},
   "outputs": [
    {
     "name": "stdout",
     "output_type": "stream",
     "text": [
      "_________________________________________________________________\n",
      "Layer (type)                 Output Shape              Param #   \n",
      "=================================================================\n",
      "embedding_1 (Embedding)      (None, 500, 32)           160000    \n",
      "_________________________________________________________________\n",
      "dropout_1 (Dropout)          (None, 500, 32)           0         \n",
      "_________________________________________________________________\n",
      "lstm_1 (LSTM)                (None, 500, 100)          53200     \n",
      "_________________________________________________________________\n",
      "dropout_2 (Dropout)          (None, 500, 100)          0         \n",
      "_________________________________________________________________\n",
      "lstm_2 (LSTM)                (None, 50)                30200     \n",
      "_________________________________________________________________\n",
      "dropout_3 (Dropout)          (None, 50)                0         \n",
      "_________________________________________________________________\n",
      "dense_1 (Dense)              (None, 1)                 51        \n",
      "=================================================================\n",
      "Total params: 243,451\n",
      "Trainable params: 243,451\n",
      "Non-trainable params: 0\n",
      "_________________________________________________________________\n",
      "None\n"
     ]
    }
   ],
   "source": [
    "# create the model\n",
    "from keras.layers import Dropout\n",
    "embedding_vecor_length = 32\n",
    "model2 = Sequential()\n",
    "model2.add(Embedding(top_rank_word, embedding_vecor_length, input_length=max_review_length))\n",
    "model2.add(Dropout(0.5))\n",
    "\n",
    "model2.add(LSTM(100, return_sequences=True))\n",
    "model2.add(Dropout(0.5))\n",
    "\n",
    "model2.add(LSTM(50))\n",
    "model2.add(Dropout(0.5))\n",
    "\n",
    "model2.add(Dense(1, activation='sigmoid'))\n",
    "model2.compile(loss='binary_crossentropy', optimizer='adam', metrics=['accuracy'])\n",
    "print(model2.summary())"
   ]
  },
  {
   "cell_type": "code",
   "execution_count": 30,
   "metadata": {},
   "outputs": [
    {
     "name": "stdout",
     "output_type": "stream",
     "text": [
      "Train on 49000 samples, validate on 21000 samples\n",
      "Epoch 1/10\n",
      "49000/49000 [==============================] - 527s 11ms/step - loss: 0.3068 - acc: 0.8976 - val_loss: 0.2118 - val_acc: 0.9172\n",
      "Epoch 2/10\n",
      "49000/49000 [==============================] - 526s 11ms/step - loss: 0.1843 - acc: 0.9312 - val_loss: 0.2427 - val_acc: 0.9153\n",
      "Epoch 3/10\n",
      "49000/49000 [==============================] - 527s 11ms/step - loss: 0.1610 - acc: 0.9405 - val_loss: 0.2049 - val_acc: 0.9210\n",
      "Epoch 4/10\n",
      "49000/49000 [==============================] - 529s 11ms/step - loss: 0.1491 - acc: 0.9458 - val_loss: 0.2080 - val_acc: 0.9203\n",
      "Epoch 5/10\n",
      "49000/49000 [==============================] - 528s 11ms/step - loss: 0.1408 - acc: 0.9491 - val_loss: 0.2124 - val_acc: 0.9209\n",
      "Epoch 6/10\n",
      "49000/49000 [==============================] - 527s 11ms/step - loss: 0.1338 - acc: 0.9516 - val_loss: 0.2199 - val_acc: 0.9217\n",
      "Epoch 7/10\n",
      "49000/49000 [==============================] - 527s 11ms/step - loss: 0.1283 - acc: 0.9548 - val_loss: 0.2278 - val_acc: 0.9199\n",
      "Epoch 8/10\n",
      "49000/49000 [==============================] - 527s 11ms/step - loss: 0.1223 - acc: 0.9570 - val_loss: 0.2435 - val_acc: 0.9188\n",
      "Epoch 9/10\n",
      "49000/49000 [==============================] - 528s 11ms/step - loss: 0.1186 - acc: 0.9583 - val_loss: 0.2336 - val_acc: 0.9184\n",
      "Epoch 10/10\n",
      "49000/49000 [==============================] - 527s 11ms/step - loss: 0.1137 - acc: 0.9604 - val_loss: 0.2440 - val_acc: 0.9157\n"
     ]
    }
   ],
   "source": [
    "history = model2.fit(X_train, y_train, batch_size=256, epochs=10,verbose=1,validation_data=(X_val, y_val))"
   ]
  },
  {
   "cell_type": "code",
   "execution_count": 31,
   "metadata": {},
   "outputs": [
    {
     "name": "stdout",
     "output_type": "stream",
     "text": [
      "[INFO] evaluating...\n",
      "30000/30000 [==============================] - 86s 3ms/step\n",
      "[INFO] accuracy: 91.43%\n"
     ]
    }
   ],
   "source": [
    "# show the accuracy on the testing set\n",
    "print(\"[INFO] evaluating...\")\n",
    "(loss, accuracy) = model2.evaluate(X_test, y_test,batch_size=256, verbose=1,)\n",
    "print(\"[INFO] accuracy: {:.2f}%\".format(accuracy * 100))"
   ]
  },
  {
   "cell_type": "code",
   "execution_count": 32,
   "metadata": {},
   "outputs": [
    {
     "name": "stdout",
     "output_type": "stream",
     "text": [
      "[INFO] accuracy: 91.57%\n"
     ]
    },
    {
     "data": {
      "image/png": "[encoded data removed]",
      "text/plain": [
       "<Figure size 432x288 with 1 Axes>"
      ]
     },
     "metadata": {},
     "output_type": "display_data"
    }
   ],
   "source": [
    "print(\"[INFO] accuracy: {:.2f}%\".format(history.history['val_acc'][-1] * 100))\n",
    "vy = history.history['val_loss']\n",
    "ty = history.history['loss']\n",
    "\n",
    "fig,ax = plt.subplots(1,1)\n",
    "ax.set_xlabel('epoch') ; ax.set_ylabel('Categorical Crossentropy Loss')\n",
    "\n",
    "# list of epoch numbers\n",
    "x = list(range(1,10+1))\n",
    "plot_dynamic(x, vy, ty, ax)"
   ]
  },
  {
   "cell_type": "code",
   "execution_count": 33,
   "metadata": {},
   "outputs": [
    {
     "data": {
      "image/png": "[encoded data removed]",
      "text/plain": [
       "<Figure size 432x288 with 1 Axes>"
      ]
     },
     "metadata": {},
     "output_type": "display_data"
    }
   ],
   "source": [
    "\n",
    "vy = history.history['val_acc']\n",
    "ty = history.history['acc']\n",
    "\n",
    "fig,ax = plt.subplots(1,1)\n",
    "ax.set_xlabel('epoch') ; ax.set_ylabel('Accuracy')\n",
    "\n",
    "# list of epoch numbers\n",
    "x = list(range(1,10+1))\n",
    "plot_dynamic(x, vy, ty, ax)"
   ]
  },
  {
   "cell_type": "markdown",
   "metadata": {},
   "source": [
    "- Very clearly we can observe that after 1 epoch a train and test loss, accuracy are constantly diverging i.e. they are trying to overfit."
   ]
  },
  {
   "cell_type": "code",
   "execution_count": 34,
   "metadata": {},
   "outputs": [],
   "source": [
    "validation_loss = history.history['val_loss'][-1]\n",
    "validation_acc = history.history['val_acc'][-1]\n",
    "train_loss = history.history['loss'][-1]\n",
    "train_acc = history.history['acc'][-1]\n",
    "test_loss= loss\n",
    "test_acc= accuracy"
   ]
  },
  {
   "cell_type": "code",
   "execution_count": 35,
   "metadata": {},
   "outputs": [
    {
     "name": "stdout",
     "output_type": "stream",
     "text": [
      "0.24397905156442098 0.9156666666666666 0.11372921771176007 0.9603673469485069 0.24930914423465728 0.9142999999682109\n"
     ]
    }
   ],
   "source": [
    "print(validation_loss,validation_acc,train_loss,train_acc,test_loss, test_acc)"
   ]
  },
  {
   "cell_type": "code",
   "execution_count": 36,
   "metadata": {},
   "outputs": [],
   "source": [
    "list = [\"LSTM(100)-LSTM(50)\",train_acc.round(4),train_loss.round(4),validation_acc.round(4),validation_loss.round(4),test_acc.round(4),test_loss.round(4)]\n"
   ]
  },
  {
   "cell_type": "code",
   "execution_count": 37,
   "metadata": {},
   "outputs": [
    {
     "data": {
      "text/html": [
       "<div>\n",
       "<style scoped>\n",
       "    .dataframe tbody tr th:only-of-type {\n",
       "        vertical-align: middle;\n",
       "    }\n",
       "\n",
       "    .dataframe tbody tr th {\n",
       "        vertical-align: top;\n",
       "    }\n",
       "\n",
       "    .dataframe thead th {\n",
       "        text-align: right;\n",
       "    }\n",
       "</style>\n",
       "<table border=\"1\" class=\"dataframe\">\n",
       "  <thead>\n",
       "    <tr style=\"text-align: right;\">\n",
       "      <th></th>\n",
       "      <th>Model</th>\n",
       "      <th>train_accuracy</th>\n",
       "      <th>train_loss</th>\n",
       "      <th>validation_accuracy</th>\n",
       "      <th>validation_loss</th>\n",
       "      <th>test_accuracy</th>\n",
       "      <th>test_loss</th>\n",
       "    </tr>\n",
       "  </thead>\n",
       "  <tbody>\n",
       "    <tr>\n",
       "      <th>0</th>\n",
       "      <td>LSTM(100)</td>\n",
       "      <td>0.9569</td>\n",
       "      <td>0.1216</td>\n",
       "      <td>0.9191</td>\n",
       "      <td>0.2263</td>\n",
       "      <td>0.916</td>\n",
       "      <td>0.2316</td>\n",
       "    </tr>\n",
       "  </tbody>\n",
       "</table>\n",
       "</div>"
      ],
      "text/plain": [
       "       Model  train_accuracy  train_loss  validation_accuracy  \\\n",
       "0  LSTM(100)          0.9569      0.1216               0.9191   \n",
       "\n",
       "   validation_loss  test_accuracy  test_loss  \n",
       "0           0.2263          0.916     0.2316  "
      ]
     },
     "execution_count": 37,
     "metadata": {},
     "output_type": "execute_result"
    }
   ],
   "source": [
    "LSTM_summ = pd.read_csv(\"./LSTM_summary.csv\", engine = \"python\")\n",
    "LSTM_summ"
   ]
  },
  {
   "cell_type": "code",
   "execution_count": 38,
   "metadata": {},
   "outputs": [],
   "source": [
    "LSTM_summ = LSTM_summ.append(pd.Series(list, index=['Model','train_accuracy','train_loss','validation_accuracy','validation_loss','test_accuracy','test_loss']), ignore_index=True)"
   ]
  },
  {
   "cell_type": "code",
   "execution_count": 39,
   "metadata": {},
   "outputs": [
    {
     "data": {
      "text/html": [
       "<div>\n",
       "<style scoped>\n",
       "    .dataframe tbody tr th:only-of-type {\n",
       "        vertical-align: middle;\n",
       "    }\n",
       "\n",
       "    .dataframe tbody tr th {\n",
       "        vertical-align: top;\n",
       "    }\n",
       "\n",
       "    .dataframe thead th {\n",
       "        text-align: right;\n",
       "    }\n",
       "</style>\n",
       "<table border=\"1\" class=\"dataframe\">\n",
       "  <thead>\n",
       "    <tr style=\"text-align: right;\">\n",
       "      <th></th>\n",
       "      <th>Model</th>\n",
       "      <th>train_accuracy</th>\n",
       "      <th>train_loss</th>\n",
       "      <th>validation_accuracy</th>\n",
       "      <th>validation_loss</th>\n",
       "      <th>test_accuracy</th>\n",
       "      <th>test_loss</th>\n",
       "    </tr>\n",
       "  </thead>\n",
       "  <tbody>\n",
       "    <tr>\n",
       "      <th>0</th>\n",
       "      <td>LSTM(100)</td>\n",
       "      <td>0.9569</td>\n",
       "      <td>0.1216</td>\n",
       "      <td>0.9191</td>\n",
       "      <td>0.2263</td>\n",
       "      <td>0.9160</td>\n",
       "      <td>0.2316</td>\n",
       "    </tr>\n",
       "    <tr>\n",
       "      <th>1</th>\n",
       "      <td>LSTM(100)-LSTM(50)</td>\n",
       "      <td>0.9604</td>\n",
       "      <td>0.1137</td>\n",
       "      <td>0.9157</td>\n",
       "      <td>0.2440</td>\n",
       "      <td>0.9143</td>\n",
       "      <td>0.2493</td>\n",
       "    </tr>\n",
       "  </tbody>\n",
       "</table>\n",
       "</div>"
      ],
      "text/plain": [
       "                Model  train_accuracy  train_loss  validation_accuracy  \\\n",
       "0           LSTM(100)          0.9569      0.1216               0.9191   \n",
       "1  LSTM(100)-LSTM(50)          0.9604      0.1137               0.9157   \n",
       "\n",
       "   validation_loss  test_accuracy  test_loss  \n",
       "0           0.2263         0.9160     0.2316  \n",
       "1           0.2440         0.9143     0.2493  "
      ]
     },
     "execution_count": 39,
     "metadata": {},
     "output_type": "execute_result"
    }
   ],
   "source": [
    "LSTM_summ"
   ]
  },
  {
   "cell_type": "code",
   "execution_count": 40,
   "metadata": {},
   "outputs": [],
   "source": [
    "LSTM_summ.to_csv('LSTM_summary.csv', index=False)"
   ]
  },
  {
   "cell_type": "markdown",
   "metadata": {},
   "source": [
    "# **LSTM using Tensorflow**"
   ]
  },
  {
   "cell_type": "code",
   "execution_count": 108,
   "metadata": {},
   "outputs": [],
   "source": [
    "import tensorflow as tf\n",
    "from collections import Counter"
   ]
  },
  {
   "cell_type": "code",
   "execution_count": 109,
   "metadata": {},
   "outputs": [
    {
     "name": "stdout",
     "output_type": "stream",
     "text": [
      "(364171, 14)\n"
     ]
    }
   ],
   "source": [
    "# Loading already cleaned datafile\n",
    "final = pd.read_csv(\"./final.csv\", engine = \"python\")\n",
    "print(final.shape)"
   ]
  },
  {
   "cell_type": "code",
   "execution_count": 110,
   "metadata": {
    "collapsed": true
   },
   "outputs": [],
   "source": [
    "###Sorting as we want according to time \n",
    "final.sort_values('Time',inplace=True)"
   ]
  },
  {
   "cell_type": "code",
   "execution_count": 111,
   "metadata": {},
   "outputs": [
    {
     "data": {
      "text/plain": [
       "(364168, 14)"
      ]
     },
     "execution_count": 111,
     "metadata": {},
     "output_type": "execute_result"
    }
   ],
   "source": [
    "filtered_df = final[final['CleanedText_NoStem'].notnull()]\n",
    "filtered_df.shape"
   ]
  },
  {
   "cell_type": "code",
   "execution_count": 112,
   "metadata": {},
   "outputs": [
    {
     "name": "stderr",
     "output_type": "stream",
     "text": [
      "100%|██████████| 364168/364168 [00:05<00:00, 61139.93it/s]\n"
     ]
    }
   ],
   "source": [
    "    i=0\n",
    "    all_words=[] # store words from +ve reviews here\n",
    "    for sent in tqdm(filtered_df['CleanedText_NoStem'].astype(str).values):\n",
    "        for w in sent.split():\n",
    "            w=(w.lower())\n",
    "            all_words.append(w)\n"
   ]
  },
  {
   "cell_type": "code",
   "execution_count": 113,
   "metadata": {},
   "outputs": [
    {
     "name": "stdout",
     "output_type": "stream",
     "text": [
      "frequenies of Words :  [('not', 198672), ('like', 152093), ('good', 121423), ('great', 106024), ('one', 104198), ('taste', 102063), ('product', 95543), ('coffee', 85790), ('flavor', 85291), ('tea', 83561), ('love', 79221), ('would', 72981), ('get', 66662), ('really', 61746), ('food', 61246), ('dont', 57474), ('use', 56738), ('much', 56452), ('also', 53050), ('time', 51719)]\n"
     ]
    }
   ],
   "source": [
    "freq_dist=nltk.FreqDist(all_words)\n",
    "print(\"frequenies of Words : \",freq_dist.most_common(20))"
   ]
  },
  {
   "cell_type": "code",
   "execution_count": 114,
   "metadata": {},
   "outputs": [],
   "source": [
    "vocabulary = dict(freq_dist)"
   ]
  },
  {
   "cell_type": "code",
   "execution_count": 115,
   "metadata": {},
   "outputs": [],
   "source": [
    "def top_words(top,vocab):\n",
    "    #https://docs.python.org/3/library/operator.html\n",
    "    import operator\n",
    "    sorted_vocab = sorted(vocab.items(), key=operator.itemgetter(1),reverse = True)\n",
    "    sorted_vocab=sorted_vocab[1:top+1] # eliminated not by starting from index 1 \n",
    "    \n",
    "    ranking = dict()\n",
    "    rank = 1\n",
    "    for i in range(len(sorted_vocab)):\n",
    "        k = sorted_vocab[i][0]\n",
    "        ranking[k] = rank\n",
    "        rank+=1\n",
    "    return ranking"
   ]
  },
  {
   "cell_type": "code",
   "execution_count": 116,
   "metadata": {},
   "outputs": [],
   "source": [
    "top_rank_word = 5000\n",
    "ranking = top_words(top_rank_word, vocabulary)\n"
   ]
  },
  {
   "cell_type": "code",
   "execution_count": null,
   "metadata": {},
   "outputs": [],
   "source": []
  },
  {
   "cell_type": "code",
   "execution_count": 117,
   "metadata": {},
   "outputs": [
    {
     "name": "stderr",
     "output_type": "stream",
     "text": [
      "100%|██████████| 364168/364168 [00:10<00:00, 34137.77it/s]\n",
      "/opt/anaconda3/lib/python3.6/site-packages/ipykernel_launcher.py:12: SettingWithCopyWarning: \n",
      "A value is trying to be set on a copy of a slice from a DataFrame.\n",
      "Try using .loc[row_indexer,col_indexer] = value instead\n",
      "\n",
      "See the caveats in the documentation: http://pandas.pydata.org/pandas-docs/stable/indexing.html#indexing-view-versus-copy\n",
      "  if sys.path[0] == '':\n",
      "/opt/anaconda3/lib/python3.6/site-packages/ipykernel_launcher.py:14: SettingWithCopyWarning: \n",
      "A value is trying to be set on a copy of a slice from a DataFrame.\n",
      "Try using .loc[row_indexer,col_indexer] = value instead\n",
      "\n",
      "See the caveats in the documentation: http://pandas.pydata.org/pandas-docs/stable/indexing.html#indexing-view-versus-copy\n",
      "  \n"
     ]
    },
    {
     "data": {
      "text/html": [
       "<div>\n",
       "<style scoped>\n",
       "    .dataframe tbody tr th:only-of-type {\n",
       "        vertical-align: middle;\n",
       "    }\n",
       "\n",
       "    .dataframe tbody tr th {\n",
       "        vertical-align: top;\n",
       "    }\n",
       "\n",
       "    .dataframe thead th {\n",
       "        text-align: right;\n",
       "    }\n",
       "</style>\n",
       "<table border=\"1\" class=\"dataframe\">\n",
       "  <thead>\n",
       "    <tr style=\"text-align: right;\">\n",
       "      <th></th>\n",
       "      <th>Id</th>\n",
       "      <th>ProductId</th>\n",
       "      <th>UserId</th>\n",
       "      <th>ProfileName</th>\n",
       "      <th>HelpfulnessNumerator</th>\n",
       "      <th>HelpfulnessDenominator</th>\n",
       "      <th>Score</th>\n",
       "      <th>Time</th>\n",
       "      <th>Summary</th>\n",
       "      <th>Text</th>\n",
       "      <th>CleanedText_NoStem</th>\n",
       "      <th>CleanedText</th>\n",
       "      <th>CleanedText_NoStem_utf</th>\n",
       "      <th>CleanedText_utf</th>\n",
       "      <th>CleandText_NoStem_indexed</th>\n",
       "    </tr>\n",
       "  </thead>\n",
       "  <tbody>\n",
       "    <tr>\n",
       "      <th>0</th>\n",
       "      <td>150524</td>\n",
       "      <td>0006641040</td>\n",
       "      <td>ACITT7DI6IDDL</td>\n",
       "      <td>shari zychinski</td>\n",
       "      <td>0</td>\n",
       "      <td>0</td>\n",
       "      <td>1</td>\n",
       "      <td>1999-10-08 00:00:00</td>\n",
       "      <td>EVERY book is educational</td>\n",
       "      <td>this witty little book makes my son laugh at l...</td>\n",
       "      <td>witty little book makes son laugh loud recite ...</td>\n",
       "      <td>witti littl book make son laugh loud recit car...</td>\n",
       "      <td>b'witty little book makes son laugh loud recit...</td>\n",
       "      <td>b'witti littl book make son laugh loud recit c...</td>\n",
       "      <td>[0, 20, 1414, 77, 396, 4915, 4419, 0, 1267, 32...</td>\n",
       "    </tr>\n",
       "    <tr>\n",
       "      <th>30</th>\n",
       "      <td>150501</td>\n",
       "      <td>0006641040</td>\n",
       "      <td>AJ46FKXOVC7NR</td>\n",
       "      <td>Nicholas A Mesiano</td>\n",
       "      <td>2</td>\n",
       "      <td>2</td>\n",
       "      <td>1</td>\n",
       "      <td>1999-10-25 00:00:00</td>\n",
       "      <td>This whole series is great way to spend time w...</td>\n",
       "      <td>I can remember seeing the show when it aired o...</td>\n",
       "      <td>remember seeing show aired television years ag...</td>\n",
       "      <td>rememb see show air televis year ago child sis...</td>\n",
       "      <td>b'remember seeing show aired television years ...</td>\n",
       "      <td>b'rememb see show air televis year ago child s...</td>\n",
       "      <td>[625, 1609, 1300, 0, 0, 74, 294, 1079, 1453, 5...</td>\n",
       "    </tr>\n",
       "    <tr>\n",
       "      <th>424</th>\n",
       "      <td>451856</td>\n",
       "      <td>B00004CXX9</td>\n",
       "      <td>AIUWLEQ1ADEG5</td>\n",
       "      <td>Elizabeth Medina</td>\n",
       "      <td>0</td>\n",
       "      <td>0</td>\n",
       "      <td>1</td>\n",
       "      <td>1999-12-02 00:00:00</td>\n",
       "      <td>Entertainingl Funny!</td>\n",
       "      <td>Beetlejuice is a well written movie ..... ever...</td>\n",
       "      <td>beetlejuice well written movie everything exce...</td>\n",
       "      <td>beetlejuic well written movi everyth excel act...</td>\n",
       "      <td>b'beetlejuice well written movie everything ex...</td>\n",
       "      <td>b'beetlejuic well written movi everyth excel a...</td>\n",
       "      <td>[0, 30, 2338, 1534, 330, 160, 0, 455, 1219, 14...</td>\n",
       "    </tr>\n",
       "    <tr>\n",
       "      <th>330</th>\n",
       "      <td>374359</td>\n",
       "      <td>B00004CI84</td>\n",
       "      <td>A344SMIA5JECGM</td>\n",
       "      <td>Vincent P. Ross</td>\n",
       "      <td>1</td>\n",
       "      <td>2</td>\n",
       "      <td>1</td>\n",
       "      <td>1999-12-06 00:00:00</td>\n",
       "      <td>A modern day fairy tale</td>\n",
       "      <td>A twist of rumplestiskin captured on film, sta...</td>\n",
       "      <td>twist rumplestiskin captured film starring mic...</td>\n",
       "      <td>twist rumplestiskin captur film star michael k...</td>\n",
       "      <td>b'twist rumplestiskin captured film starring m...</td>\n",
       "      <td>b'twist rumplestiskin captur film star michael...</td>\n",
       "      <td>[2594, 0, 0, 3425, 0, 0, 0, 0, 0, 992, 4198, 0...</td>\n",
       "    </tr>\n",
       "    <tr>\n",
       "      <th>423</th>\n",
       "      <td>451855</td>\n",
       "      <td>B00004CXX9</td>\n",
       "      <td>AJH6LUC1UT1ON</td>\n",
       "      <td>The Phantom of the Opera</td>\n",
       "      <td>0</td>\n",
       "      <td>0</td>\n",
       "      <td>1</td>\n",
       "      <td>2000-01-03 00:00:00</td>\n",
       "      <td>FANTASTIC!</td>\n",
       "      <td>Beetlejuice is an excellent and funny movie. K...</td>\n",
       "      <td>beetlejuice excellent funny movie keaton hilar...</td>\n",
       "      <td>beetlejuic excel funni movi keaton hilari wack...</td>\n",
       "      <td>b'beetlejuice excellent funny movie keaton hil...</td>\n",
       "      <td>b'beetlejuic excel funni movi keaton hilari wa...</td>\n",
       "      <td>[0, 160, 1631, 1534, 0, 0, 0, 0, 3, 455, 1219,...</td>\n",
       "    </tr>\n",
       "  </tbody>\n",
       "</table>\n",
       "</div>"
      ],
      "text/plain": [
       "         Id   ProductId          UserId               ProfileName  \\\n",
       "0    150524  0006641040   ACITT7DI6IDDL           shari zychinski   \n",
       "30   150501  0006641040   AJ46FKXOVC7NR        Nicholas A Mesiano   \n",
       "424  451856  B00004CXX9   AIUWLEQ1ADEG5          Elizabeth Medina   \n",
       "330  374359  B00004CI84  A344SMIA5JECGM           Vincent P. Ross   \n",
       "423  451855  B00004CXX9   AJH6LUC1UT1ON  The Phantom of the Opera   \n",
       "\n",
       "     HelpfulnessNumerator  HelpfulnessDenominator  Score                 Time  \\\n",
       "0                       0                       0      1  1999-10-08 00:00:00   \n",
       "30                      2                       2      1  1999-10-25 00:00:00   \n",
       "424                     0                       0      1  1999-12-02 00:00:00   \n",
       "330                     1                       2      1  1999-12-06 00:00:00   \n",
       "423                     0                       0      1  2000-01-03 00:00:00   \n",
       "\n",
       "                                               Summary  \\\n",
       "0                            EVERY book is educational   \n",
       "30   This whole series is great way to spend time w...   \n",
       "424                               Entertainingl Funny!   \n",
       "330                            A modern day fairy tale   \n",
       "423                                         FANTASTIC!   \n",
       "\n",
       "                                                  Text  \\\n",
       "0    this witty little book makes my son laugh at l...   \n",
       "30   I can remember seeing the show when it aired o...   \n",
       "424  Beetlejuice is a well written movie ..... ever...   \n",
       "330  A twist of rumplestiskin captured on film, sta...   \n",
       "423  Beetlejuice is an excellent and funny movie. K...   \n",
       "\n",
       "                                    CleanedText_NoStem  \\\n",
       "0    witty little book makes son laugh loud recite ...   \n",
       "30   remember seeing show aired television years ag...   \n",
       "424  beetlejuice well written movie everything exce...   \n",
       "330  twist rumplestiskin captured film starring mic...   \n",
       "423  beetlejuice excellent funny movie keaton hilar...   \n",
       "\n",
       "                                           CleanedText  \\\n",
       "0    witti littl book make son laugh loud recit car...   \n",
       "30   rememb see show air televis year ago child sis...   \n",
       "424  beetlejuic well written movi everyth excel act...   \n",
       "330  twist rumplestiskin captur film star michael k...   \n",
       "423  beetlejuic excel funni movi keaton hilari wack...   \n",
       "\n",
       "                                CleanedText_NoStem_utf  \\\n",
       "0    b'witty little book makes son laugh loud recit...   \n",
       "30   b'remember seeing show aired television years ...   \n",
       "424  b'beetlejuice well written movie everything ex...   \n",
       "330  b'twist rumplestiskin captured film starring m...   \n",
       "423  b'beetlejuice excellent funny movie keaton hil...   \n",
       "\n",
       "                                       CleanedText_utf  \\\n",
       "0    b'witti littl book make son laugh loud recit c...   \n",
       "30   b'rememb see show air televis year ago child s...   \n",
       "424  b'beetlejuic well written movi everyth excel a...   \n",
       "330  b'twist rumplestiskin captur film star michael...   \n",
       "423  b'beetlejuic excel funni movi keaton hilari wa...   \n",
       "\n",
       "                             CleandText_NoStem_indexed  \n",
       "0    [0, 20, 1414, 77, 396, 4915, 4419, 0, 1267, 32...  \n",
       "30   [625, 1609, 1300, 0, 0, 74, 294, 1079, 1453, 5...  \n",
       "424  [0, 30, 2338, 1534, 330, 160, 0, 455, 1219, 14...  \n",
       "330  [2594, 0, 0, 3425, 0, 0, 0, 0, 0, 992, 4198, 0...  \n",
       "423  [0, 160, 1631, 1534, 0, 0, 0, 0, 3, 455, 1219,...  "
      ]
     },
     "execution_count": 117,
     "metadata": {},
     "output_type": "execute_result"
    }
   ],
   "source": [
    "X = []    \n",
    "for sent in tqdm(filtered_df['CleanedText_NoStem'].astype(str).values):\n",
    "    row =[]\n",
    "    for w in sent.split():\n",
    "        if w in ranking:\n",
    "            row.append(ranking[w]) \n",
    "        else:\n",
    "            row.append(0)    \n",
    "            \n",
    "    X.append(row)\n",
    "    \n",
    "filtered_df['CleandText_NoStem_indexed'] = X\n",
    "\n",
    "filtered_df['Score'] = filtered_df['Score'].map(lambda x : 1 if x == 'positive' else 0)\n",
    "filtered_df.head(5)"
   ]
  },
  {
   "cell_type": "code",
   "execution_count": 118,
   "metadata": {},
   "outputs": [],
   "source": [
    "#Taking latest Data\n",
    "n_samples = 100000\n",
    "sample = filtered_df.head(n_samples)"
   ]
  },
  {
   "cell_type": "code",
   "execution_count": 119,
   "metadata": {},
   "outputs": [],
   "source": [
    "from sklearn.model_selection import train_test_split\n",
    "X_train , X_test , y_train , y_test = train_test_split(sample['CleandText_NoStem_indexed'].values,sample['Score'],test_size = 0.3,random_state = 0,shuffle = False)"
   ]
  },
  {
   "cell_type": "code",
   "execution_count": 120,
   "metadata": {},
   "outputs": [],
   "source": [
    "X_train , X_val , y_train , y_val = train_test_split(X_train,y_train,test_size = 0.3,random_state = 0,shuffle = False)"
   ]
  },
  {
   "cell_type": "code",
   "execution_count": 121,
   "metadata": {},
   "outputs": [
    {
     "name": "stdout",
     "output_type": "stream",
     "text": [
      "[625, 1609, 1300, 0, 0, 74, 294, 1079, 1453, 552, 41, 58, 4711, 0, 36, 4460, 3288, 0, 3432, 0, 0, 698, 109, 1092, 612, 506, 3288, 872, 3424, 1971]\n",
      "<class 'list'>\n",
      "30\n"
     ]
    }
   ],
   "source": [
    "print(X_train[1])\n",
    "print(type(X_train[1]))\n",
    "print(len(X_train[1]))"
   ]
  },
  {
   "cell_type": "code",
   "execution_count": 122,
   "metadata": {},
   "outputs": [
    {
     "name": "stdout",
     "output_type": "stream",
     "text": [
      "(49000, 500)\n",
      "[   0    0    0    0    0    0    0    0    0    0    0    0    0    0\n",
      "    0    0    0    0    0    0    0    0    0    0    0    0    0    0\n",
      "    0    0    0    0    0    0    0    0    0    0    0    0    0    0\n",
      "    0    0    0    0    0    0    0    0    0    0    0    0    0    0\n",
      "    0    0    0    0    0    0    0    0    0    0    0    0    0    0\n",
      "    0    0    0    0    0    0    0    0    0    0    0    0    0    0\n",
      "    0    0    0    0    0    0    0    0    0    0    0    0    0    0\n",
      "    0    0    0    0    0    0    0    0    0    0    0    0    0    0\n",
      "    0    0    0    0    0    0    0    0    0    0    0    0    0    0\n",
      "    0    0    0    0    0    0    0    0    0    0    0    0    0    0\n",
      "    0    0    0    0    0    0    0    0    0    0    0    0    0    0\n",
      "    0    0    0    0    0    0    0    0    0    0    0    0    0    0\n",
      "    0    0    0    0    0    0    0    0    0    0    0    0    0    0\n",
      "    0    0    0    0    0    0    0    0    0    0    0    0    0    0\n",
      "    0    0    0    0    0    0    0    0    0    0    0    0    0    0\n",
      "    0    0    0    0    0    0    0    0    0    0    0    0    0    0\n",
      "    0    0    0    0    0    0    0    0    0    0    0    0    0    0\n",
      "    0    0    0    0    0    0    0    0    0    0    0    0    0    0\n",
      "    0    0    0    0    0    0    0    0    0    0    0    0    0    0\n",
      "    0    0    0    0    0    0    0    0    0    0    0    0    0    0\n",
      "    0    0    0    0    0    0    0    0    0    0    0    0    0    0\n",
      "    0    0    0    0    0    0    0    0    0    0    0    0    0    0\n",
      "    0    0    0    0    0    0    0    0    0    0    0    0    0    0\n",
      "    0    0    0    0    0    0    0    0    0    0    0    0    0    0\n",
      "    0    0    0    0    0    0    0    0    0    0    0    0    0    0\n",
      "    0    0    0    0    0    0    0    0    0    0    0    0    0    0\n",
      "    0    0    0    0    0    0    0    0    0    0    0    0    0    0\n",
      "    0    0    0    0    0    0    0    0    0    0    0    0    0    0\n",
      "    0    0    0    0    0    0    0    0    0    0    0    0    0    0\n",
      "    0    0    0    0    0    0    0    0    0    0    0    0    0    0\n",
      "    0    0    0    0    0    0    0    0    0    0    0    0    0    0\n",
      "    0    0    0    0    0    0    0    0    0    0    0    0    0    0\n",
      "    0    0    0    0    0    0    0    0    0    0    0    0    0    0\n",
      "    0    0    0    0    0    0    0    0  625 1609 1300    0    0   74\n",
      "  294 1079 1453  552   41   58 4711    0   36 4460 3288    0 3432    0\n",
      "    0  698  109 1092  612  506 3288  872 3424 1971]\n"
     ]
    }
   ],
   "source": [
    "\n",
    "# truncate and/or pad input sequences\n",
    "max_review_length = 500\n",
    "X_train = sequence.pad_sequences(X_train, maxlen=max_review_length)\n",
    "X_test = sequence.pad_sequences(X_test, maxlen=max_review_length)\n",
    "X_val = sequence.pad_sequences(X_val, maxlen=max_review_length)\n",
    "print(X_train.shape)\n",
    "print(X_train[1])"
   ]
  },
  {
   "cell_type": "code",
   "execution_count": 123,
   "metadata": {},
   "outputs": [
    {
     "name": "stdout",
     "output_type": "stream",
     "text": [
      "(49000, 500)\n",
      "(49000,)\n",
      "(30000, 500)\n",
      "(30000,)\n",
      "(21000, 500)\n",
      "(21000,)\n"
     ]
    }
   ],
   "source": [
    "print(X_train.shape)\n",
    "print(y_train.shape)\n",
    "print(X_test.shape)\n",
    "print(y_test.shape)\n",
    "print(X_val.shape)\n",
    "print(y_val.shape)"
   ]
  },
  {
   "cell_type": "code",
   "execution_count": null,
   "metadata": {},
   "outputs": [],
   "source": [
    "#reference : https://www.oreilly.com/ideas/introduction-to-lstms-with-tensorflow"
   ]
  },
  {
   "cell_type": "code",
   "execution_count": 65,
   "metadata": {},
   "outputs": [],
   "source": [
    "def model_inputs():\n",
    "    \"\"\" Create the model inputs \"\"\"\n",
    "    inputs_ = tf.placeholder(tf.int32, [None, None], name='inputs')\n",
    "    labels_ = tf.placeholder(tf.int32, [None, None], name='labels')\n",
    "    keep_prob_ = tf.placeholder(tf.float32, name='keep_prob')\n",
    "    \n",
    "    return inputs_, labels_, keep_prob_"
   ]
  },
  {
   "cell_type": "code",
   "execution_count": 51,
   "metadata": {},
   "outputs": [],
   "source": [
    "def build_embedding_layer(inputs_, vocab_size, embed_size):\n",
    "    \"\"\" Create the embedding layer \"\"\"\n",
    "    embedding = tf.Variable(tf.random_uniform((vocab_size, embed_size), -1, 1))\n",
    "    embed = tf.nn.embedding_lookup(embedding, inputs_)\n",
    "    print(\" embeddings shape \",embed.shape)\n",
    "    \n",
    "    return embed"
   ]
  },
  {
   "cell_type": "code",
   "execution_count": 52,
   "metadata": {},
   "outputs": [],
   "source": [
    "def build_lstm_layers(lstm_sizes, embed, keep_prob_, batch_size):\n",
    "    \"\"\" Create the LSTM layers \"\"\"\n",
    "    lstms = [tf.contrib.rnn.BasicLSTMCell(size) for size in lstm_sizes]\n",
    "    # Add dropout to the cell\n",
    "    drops = [tf.contrib.rnn.DropoutWrapper(lstm, output_keep_prob=keep_prob_) for lstm in lstms]\n",
    "    # Stack up multiple LSTM layers, for deep learning\n",
    "    cell = tf.contrib.rnn.MultiRNNCell(drops)\n",
    "    # Getting an initial state of all zeros\n",
    "    initial_state = cell.zero_state(batch_size, tf.float32)\n",
    "    \n",
    "    lstm_outputs, final_state = tf.nn.dynamic_rnn(cell, embed, initial_state=initial_state)\n",
    "    print(\"Shape of LSTM layers \\n\", final_state)\n",
    "    \n",
    "    return initial_state, lstm_outputs, cell, final_state"
   ]
  },
  {
   "cell_type": "code",
   "execution_count": 24,
   "metadata": {},
   "outputs": [],
   "source": [
    "def build_cost_fn_and_opt(lstm_outputs, labels_, learning_rate):\n",
    "    \"\"\" Create the Loss function and Optimizer \"\"\"\n",
    "    predictions = tf.contrib.layers.fully_connected(lstm_outputs[:, -1], 1, activation_fn=tf.sigmoid)\n",
    "    loss = tf.losses.mean_squared_error(labels_, predictions)\n",
    "    optimizer = tf.train.AdamOptimizer(learning_rate).minimize(loss)\n",
    "    print(\"Shape of fully connected layer \", predictions.shape)\n",
    "    \n",
    "    return predictions, loss, optimizer"
   ]
  },
  {
   "cell_type": "code",
   "execution_count": 55,
   "metadata": {},
   "outputs": [],
   "source": [
    "def build_accuracy(predictions, labels_):\n",
    "    \"\"\" Create accuracy \"\"\"\n",
    "    correct_pred = tf.equal(tf.cast(tf.round(predictions), tf.int32), labels_)\n",
    "    accuracy = tf.reduce_mean(tf.cast(correct_pred, tf.float32))\n",
    "    \n",
    "    return accuracy"
   ]
  },
  {
   "cell_type": "code",
   "execution_count": 26,
   "metadata": {},
   "outputs": [],
   "source": [
    "def build_accuracy(predictions, labels_):\n",
    "    \"\"\" Create accuracy \"\"\"\n",
    "    #Here you check whether the index of the maximum value of the predicted image is equal to the actual labelled image. and both will be a column vector.\n",
    "    correct_prediction = tf.equal(tf.argmax(predictions, 1), tf.argmax(labels_, 1))\n",
    "\n",
    "    #calculate accuracy across all the given images and average them out. \n",
    "    accuracy = tf.reduce_mean(tf.cast(correct_prediction, tf.float32))\n",
    "    \n",
    "    return accuracy"
   ]
  },
  {
   "cell_type": "code",
   "execution_count": 27,
   "metadata": {},
   "outputs": [],
   "source": [
    "def get_batches(x, y, batch_size=100):\n",
    "    \"\"\"\n",
    "    Batch Generator for Training\n",
    "    :param x: Input array of x data\n",
    "    :param y: Input array of y data\n",
    "    :param batch_size: Input int, size of batch\n",
    "    :return: generator that returns a tuple of our x batch and y batch\n",
    "    \"\"\"\n",
    "    n_batches = len(x)//batch_size\n",
    "    x, y = x[:n_batches*batch_size], y[:n_batches*batch_size]\n",
    "    for ii in range(0, len(x), batch_size):\n",
    "        yield x[ii:ii+batch_size], y[ii:ii+batch_size]"
   ]
  },
  {
   "cell_type": "code",
   "execution_count": 95,
   "metadata": {},
   "outputs": [],
   "source": [
    "%matplotlib inline\n",
    "import matplotlib.pyplot as plt\n",
    "import numpy as np\n",
    "import time\n",
    "# https://gist.github.com/greydanus/f6eee59eaf1d90fcb3b534a25362cea4\n",
    "# https://stackoverflow.com/a/14434334\n",
    "def plt_dynamic(x, y, y_1, ax, colors=['b']):\n",
    "    ax.plot(x, y, 'b', label=\"Train Loss\")\n",
    "    ax.plot(x, y_1, 'r', label=\"Test Loss\")\n",
    "    if len(x)==1:\n",
    "        plt.legend()\n",
    "    fig.canvas.draw()"
   ]
  },
  {
   "cell_type": "markdown",
   "metadata": {},
   "source": [
    "## **1 layered LSTM using Tensorflow(LSTM(100))**"
   ]
  },
  {
   "cell_type": "code",
   "execution_count": 124,
   "metadata": {},
   "outputs": [],
   "source": [
    "\n",
    "# Define Inputs and Hyperparameters\n",
    "lstm_sizes = [100]\n",
    "vocab_size = top_rank_word \n",
    "embed_size = 32\n",
    "epochs = 10\n",
    "batch_size = 256\n",
    "learning_rate = 0.001\n",
    "keep_prob = 0.5\n",
    "dropout=0.5"
   ]
  },
  {
   "cell_type": "code",
   "execution_count": 125,
   "metadata": {},
   "outputs": [],
   "source": [
    "def build_and_train_network(lstm_sizes, vocab_size, embed_size, epochs, batch_size,\n",
    "                            learning_rate, keep_prob, X_train, X_val, y_train, y_val):\n",
    "    \n",
    "    inputs_, labels_, keep_prob_ = model_inputs()\n",
    "    embed = build_embedding_layer(inputs_, vocab_size, embed_size)\n",
    "    initial_state, lstm_outputs, lstm_cell, final_state = build_lstm_layers(lstm_sizes, embed, keep_prob_, batch_size)\n",
    "    predictions, loss, optimizer = build_cost_fn_and_opt(lstm_outputs, labels_, learning_rate)\n",
    "    accuracy = build_accuracy(predictions, labels_)\n",
    "    \n",
    "    saver = tf.train.Saver()\n",
    "    \n",
    "    with tf.Session() as sess:\n",
    "        \n",
    "        sess.run(tf.global_variables_initializer())\n",
    "        n_batches = len(X_train)//batch_size\n",
    "        xs =[]\n",
    "        train_acc = []\n",
    "        train_loss = []\n",
    "        validation_acc = []\n",
    "        validation_loss =[]\n",
    "        for e in range(epochs):\n",
    "            state = sess.run(initial_state)\n",
    "            \n",
    "\n",
    "            for ii, (x, y) in enumerate(get_batches(X_train, y_train, batch_size), 1):\n",
    "                feed = {inputs_: x, labels_: y[:, None], keep_prob_: 0.5, initial_state: state}\n",
    "                loss_, state, _,  batch_acc = sess.run([loss, final_state, optimizer, accuracy], feed_dict=feed)\n",
    "            \n",
    "            train_acc.append(batch_acc)\n",
    "            train_loss.append(loss_)\n",
    "                \n",
    "            val_state = sess.run(lstm_cell.zero_state(batch_size, tf.float32))\n",
    "            for xx, yy in get_batches(X_val, y_val, batch_size):\n",
    "                feed = {inputs_: xx,labels_: yy[:, None],keep_prob_: 1, initial_state: val_state}\n",
    "                val_loss, val_batch_acc, val_state = sess.run([loss, accuracy, final_state], feed_dict=feed)\n",
    "            validation_acc.append(val_batch_acc)\n",
    "            validation_loss.append(val_loss)\n",
    "            xs.append(e)\n",
    "                \n",
    "                    \n",
    "            print(\"Epoch: {}/{}...\".format(e+1, epochs),\n",
    "                          \"Batch: {}/{}...\".format(ii, n_batches),\n",
    "                          \"Train Loss: {:.3f}...\".format(loss_),\n",
    "                          \"Train Accruacy: {:.3f}...\".format((batch_acc)),\n",
    "                          \"Val Loss: {:.3f}...\".format((val_loss)),\n",
    "                          \"Val Accuracy: {:.3f}\".format((val_batch_acc)))\n",
    "    \n",
    "        saver.save(sess, \"checkpoints/sentiment.ckpt\")\n",
    "        return train_acc, train_loss, validation_acc, validation_loss,xs"
   ]
  },
  {
   "cell_type": "code",
   "execution_count": 126,
   "metadata": {},
   "outputs": [
    {
     "name": "stdout",
     "output_type": "stream",
     "text": [
      " embeddings shape  (?, ?, 32)\n",
      "Shape of LSTM layers \n",
      " (LSTMStateTuple(c=<tf.Tensor 'rnn/while/Exit_3:0' shape=(256, 100) dtype=float32>, h=<tf.Tensor 'rnn/while/Exit_4:0' shape=(256, 100) dtype=float32>),)\n",
      "Shape of fully connected layer  (256, 1)\n",
      "Epoch: 1/10... Batch: 191/191... Train Loss: 0.117... Train Accruacy: 0.863... Val Loss: 0.095... Val Accuracy: 0.883\n",
      "Epoch: 2/10... Batch: 191/191... Train Loss: 0.092... Train Accruacy: 0.871... Val Loss: 0.072... Val Accuracy: 0.902\n",
      "Epoch: 3/10... Batch: 191/191... Train Loss: 0.078... Train Accruacy: 0.887... Val Loss: 0.064... Val Accuracy: 0.922\n",
      "Epoch: 4/10... Batch: 191/191... Train Loss: 0.066... Train Accruacy: 0.906... Val Loss: 0.065... Val Accuracy: 0.910\n",
      "Epoch: 5/10... Batch: 191/191... Train Loss: 0.061... Train Accruacy: 0.918... Val Loss: 0.062... Val Accuracy: 0.914\n",
      "Epoch: 6/10... Batch: 191/191... Train Loss: 0.052... Train Accruacy: 0.930... Val Loss: 0.065... Val Accuracy: 0.914\n",
      "Epoch: 7/10... Batch: 191/191... Train Loss: 0.046... Train Accruacy: 0.938... Val Loss: 0.066... Val Accuracy: 0.914\n",
      "Epoch: 8/10... Batch: 191/191... Train Loss: 0.049... Train Accruacy: 0.941... Val Loss: 0.061... Val Accuracy: 0.922\n",
      "Epoch: 9/10... Batch: 191/191... Train Loss: 0.047... Train Accruacy: 0.945... Val Loss: 0.061... Val Accuracy: 0.926\n",
      "Epoch: 10/10... Batch: 191/191... Train Loss: 0.042... Train Accruacy: 0.945... Val Loss: 0.065... Val Accuracy: 0.918\n",
      "CPU times: user 41min 40s, sys: 4min 10s, total: 45min 50s\n",
      "Wall time: 24min 38s\n"
     ]
    }
   ],
   "source": [
    "%%time\n",
    "with tf.Graph().as_default():\n",
    "    train_acc,train_loss,val_acc,val_loss,xs =  build_and_train_network(lstm_sizes, vocab_size, embed_size, epochs, batch_size,\n",
    "                                                                   learning_rate, dropout, X_train, X_val, y_train, y_val)"
   ]
  },
  {
   "cell_type": "code",
   "execution_count": 127,
   "metadata": {},
   "outputs": [
    {
     "data": {
      "image/png": "[encoded data removed]",
      "text/plain": [
       "<Figure size 432x288 with 1 Axes>"
      ]
     },
     "metadata": {},
     "output_type": "display_data"
    }
   ],
   "source": [
    "xs = range(10)\n",
    "fig,ax = plt.subplots(1,1)\n",
    "ax.set_xlabel('epoch') ; ax.set_ylabel('Loss')\n",
    "plt_dynamic(xs, train_loss, val_loss, ax)   "
   ]
  },
  {
   "cell_type": "code",
   "execution_count": 128,
   "metadata": {},
   "outputs": [
    {
     "data": {
      "image/png": "[encoded data removed]",
      "text/plain": [
       "<Figure size 432x288 with 1 Axes>"
      ]
     },
     "metadata": {},
     "output_type": "display_data"
    }
   ],
   "source": [
    "\n",
    "fig,ax = plt.subplots(1,1)\n",
    "ax.set_xlabel('epoch') ; ax.set_ylabel('accuracy')\n",
    "plt_dynamic(xs, train_acc, val_acc, ax)   "
   ]
  },
  {
   "cell_type": "markdown",
   "metadata": {},
   "source": [
    "- similar to 1 Layered LSTM model using keras here also we are getting best loss and accuracy values at epoch no. 4"
   ]
  },
  {
   "cell_type": "code",
   "execution_count": 129,
   "metadata": {},
   "outputs": [],
   "source": [
    "def test_network(model_dir, batch_size, test_x, test_y):\n",
    "    \n",
    "    inputs_, labels_, keep_prob_ = model_inputs()\n",
    "    embed = build_embedding_layer(inputs_, vocab_size, embed_size)\n",
    "    initial_state, lstm_outputs, lstm_cell, final_state = build_lstm_layers(lstm_sizes, embed, keep_prob_, batch_size)\n",
    "    predictions, loss, optimizer = build_cost_fn_and_opt(lstm_outputs, labels_, learning_rate)\n",
    "    accuracy = build_accuracy(predictions, labels_)\n",
    "    \n",
    "    saver = tf.train.Saver()\n",
    "    \n",
    "    test_acc = []\n",
    "    with tf.Session() as sess:\n",
    "        saver.restore(sess, tf.train.latest_checkpoint(model_dir))\n",
    "        test_state = sess.run(lstm_cell.zero_state(batch_size, tf.float32))\n",
    "        for ii, (x, y) in enumerate(get_batches(test_x, test_y, batch_size), 1):\n",
    "            feed = {inputs_: x, labels_: y[:, None], keep_prob_: 1, initial_state: test_state}\n",
    "            batch_acc, test_state = sess.run([accuracy, final_state], feed_dict=feed)\n",
    "            test_acc.append(batch_acc)\n",
    "        avg_test_acc=np.mean(test_acc)\n",
    "        print(\"Test Accuracy: {:.3f}\".format(np.mean(avg_test_acc)))\n",
    "        return avg_test_acc"
   ]
  },
  {
   "cell_type": "code",
   "execution_count": 130,
   "metadata": {},
   "outputs": [
    {
     "name": "stdout",
     "output_type": "stream",
     "text": [
      " embeddings shape  (?, ?, 32)\n",
      "Shape of LSTM layers \n",
      " (LSTMStateTuple(c=<tf.Tensor 'rnn/while/Exit_3:0' shape=(256, 100) dtype=float32>, h=<tf.Tensor 'rnn/while/Exit_4:0' shape=(256, 100) dtype=float32>),)\n",
      "Shape of fully connected layer  (256, 1)\n",
      "INFO:tensorflow:Restoring parameters from checkpoints/sentiment.ckpt\n",
      "Test Accuracy: 0.913\n"
     ]
    }
   ],
   "source": [
    "with tf.Graph().as_default():\n",
    "    test_acc=test_network('checkpoints', batch_size, X_test, y_test)"
   ]
  },
  {
   "cell_type": "code",
   "execution_count": 131,
   "metadata": {},
   "outputs": [],
   "source": [
    "import pandas as pd\n",
    "tf_LSTM_summ = pd.read_csv(\"./tf_LSTM_summary.csv\", engine = \"python\")"
   ]
  },
  {
   "cell_type": "code",
   "execution_count": 132,
   "metadata": {},
   "outputs": [
    {
     "data": {
      "text/html": [
       "<div>\n",
       "<style scoped>\n",
       "    .dataframe tbody tr th:only-of-type {\n",
       "        vertical-align: middle;\n",
       "    }\n",
       "\n",
       "    .dataframe tbody tr th {\n",
       "        vertical-align: top;\n",
       "    }\n",
       "\n",
       "    .dataframe thead th {\n",
       "        text-align: right;\n",
       "    }\n",
       "</style>\n",
       "<table border=\"1\" class=\"dataframe\">\n",
       "  <thead>\n",
       "    <tr style=\"text-align: right;\">\n",
       "      <th></th>\n",
       "      <th>Model</th>\n",
       "      <th>train avg cost</th>\n",
       "      <th>Val_avg_cost</th>\n",
       "      <th>train_accuracy</th>\n",
       "      <th>Val_accuracy</th>\n",
       "      <th>test_accuracy</th>\n",
       "    </tr>\n",
       "  </thead>\n",
       "  <tbody>\n",
       "    <tr>\n",
       "      <th>0</th>\n",
       "      <td>2 layer LSTM model</td>\n",
       "      <td>0.034784</td>\n",
       "      <td>0.0607</td>\n",
       "      <td>0.9648</td>\n",
       "      <td>0.918</td>\n",
       "      <td>0.916</td>\n",
       "    </tr>\n",
       "  </tbody>\n",
       "</table>\n",
       "</div>"
      ],
      "text/plain": [
       "                Model  train avg cost  Val_avg_cost  train_accuracy  \\\n",
       "0  2 layer LSTM model        0.034784        0.0607          0.9648   \n",
       "\n",
       "   Val_accuracy  test_accuracy  \n",
       "0         0.918          0.916  "
      ]
     },
     "execution_count": 132,
     "metadata": {},
     "output_type": "execute_result"
    }
   ],
   "source": [
    "tf_LSTM_summ"
   ]
  },
  {
   "cell_type": "code",
   "execution_count": 134,
   "metadata": {},
   "outputs": [],
   "source": [
    "list = [\"1(100) Layered LSTM\",train_loss[-1],val_loss[-1].round(4),train_acc[-1].round(4),val_acc[-1].round(4), test_acc.round(4)]\n"
   ]
  },
  {
   "cell_type": "code",
   "execution_count": 138,
   "metadata": {},
   "outputs": [],
   "source": [
    "tf_LSTM_summ = tf_LSTM_summ.append(pd.Series(list, index=['Model','train avg cost','Val_avg_cost', 'train_accuracy', 'Val_accuracy', 'test_accuracy']), ignore_index=True)\n",
    "\n"
   ]
  },
  {
   "cell_type": "code",
   "execution_count": 139,
   "metadata": {},
   "outputs": [],
   "source": [
    "tf_LSTM_summ.to_csv('tf_LSTM_summary.csv', index=False)"
   ]
  },
  {
   "cell_type": "code",
   "execution_count": 140,
   "metadata": {},
   "outputs": [
    {
     "data": {
      "text/html": [
       "<div>\n",
       "<style scoped>\n",
       "    .dataframe tbody tr th:only-of-type {\n",
       "        vertical-align: middle;\n",
       "    }\n",
       "\n",
       "    .dataframe tbody tr th {\n",
       "        vertical-align: top;\n",
       "    }\n",
       "\n",
       "    .dataframe thead th {\n",
       "        text-align: right;\n",
       "    }\n",
       "</style>\n",
       "<table border=\"1\" class=\"dataframe\">\n",
       "  <thead>\n",
       "    <tr style=\"text-align: right;\">\n",
       "      <th></th>\n",
       "      <th>Model</th>\n",
       "      <th>train avg cost</th>\n",
       "      <th>Val_avg_cost</th>\n",
       "      <th>train_accuracy</th>\n",
       "      <th>Val_accuracy</th>\n",
       "      <th>test_accuracy</th>\n",
       "    </tr>\n",
       "  </thead>\n",
       "  <tbody>\n",
       "    <tr>\n",
       "      <th>0</th>\n",
       "      <td>2 layer LSTM model</td>\n",
       "      <td>0.034784</td>\n",
       "      <td>0.0607</td>\n",
       "      <td>0.9648</td>\n",
       "      <td>0.918</td>\n",
       "      <td>0.9160</td>\n",
       "    </tr>\n",
       "    <tr>\n",
       "      <th>1</th>\n",
       "      <td>1(100) Layered LSTM</td>\n",
       "      <td>0.042119</td>\n",
       "      <td>0.0652</td>\n",
       "      <td>0.9453</td>\n",
       "      <td>0.918</td>\n",
       "      <td>0.9129</td>\n",
       "    </tr>\n",
       "  </tbody>\n",
       "</table>\n",
       "</div>"
      ],
      "text/plain": [
       "                 Model  train avg cost  Val_avg_cost  train_accuracy  \\\n",
       "0   2 layer LSTM model        0.034784        0.0607          0.9648   \n",
       "1  1(100) Layered LSTM        0.042119        0.0652          0.9453   \n",
       "\n",
       "   Val_accuracy  test_accuracy  \n",
       "0         0.918         0.9160  \n",
       "1         0.918         0.9129  "
      ]
     },
     "execution_count": 140,
     "metadata": {},
     "output_type": "execute_result"
    }
   ],
   "source": [
    "tf_LSTM_summ"
   ]
  },
  {
   "cell_type": "markdown",
   "metadata": {},
   "source": [
    "## **2 Layer LSTM using tensorflow(LSTM(100)-LSTM(50))**"
   ]
  },
  {
   "cell_type": "code",
   "execution_count": 88,
   "metadata": {},
   "outputs": [],
   "source": [
    "\n",
    "# Define Inputs and Hyperparameters\n",
    "lstm_sizes = [100, 50]\n",
    "vocab_size = top_rank_word \n",
    "embed_size = 32\n",
    "epochs = 10\n",
    "batch_size = 256\n",
    "learning_rate = 0.001\n",
    "keep_prob = 0.5\n",
    "dropout=0.5"
   ]
  },
  {
   "cell_type": "code",
   "execution_count": 89,
   "metadata": {},
   "outputs": [],
   "source": [
    "def build_and_train_network(lstm_sizes, vocab_size, embed_size, epochs, batch_size,\n",
    "                            learning_rate, keep_prob, X_train, X_val, y_train, y_val):\n",
    "    \n",
    "    inputs_, labels_, keep_prob_ = model_inputs()\n",
    "    embed = build_embedding_layer(inputs_, vocab_size, embed_size)\n",
    "    initial_state, lstm_outputs, lstm_cell, final_state = build_lstm_layers(lstm_sizes, embed, keep_prob_, batch_size)\n",
    "    predictions, loss, optimizer = build_cost_fn_and_opt(lstm_outputs, labels_, learning_rate)\n",
    "    accuracy = build_accuracy(predictions, labels_)\n",
    "    \n",
    "    saver = tf.train.Saver()\n",
    "    \n",
    "    with tf.Session() as sess:\n",
    "        \n",
    "        sess.run(tf.global_variables_initializer())\n",
    "        n_batches = len(X_train)//batch_size\n",
    "        xs =[]\n",
    "        train_acc = []\n",
    "        train_loss = []\n",
    "        validation_acc = []\n",
    "        validation_loss =[]\n",
    "        for e in range(epochs):\n",
    "            state = sess.run(initial_state)\n",
    "            \n",
    "\n",
    "            for ii, (x, y) in enumerate(get_batches(X_train, y_train, batch_size), 1):\n",
    "                feed = {inputs_: x, labels_: y[:, None], keep_prob_: 0.5, initial_state: state}\n",
    "                loss_, state, _,  batch_acc = sess.run([loss, final_state, optimizer, accuracy], feed_dict=feed)\n",
    "            \n",
    "            train_acc.append(batch_acc)\n",
    "            train_loss.append(loss_)\n",
    "                \n",
    "            val_state = sess.run(lstm_cell.zero_state(batch_size, tf.float32))\n",
    "            for xx, yy in get_batches(X_val, y_val, batch_size):\n",
    "                feed = {inputs_: xx,labels_: yy[:, None],keep_prob_: 1, initial_state: val_state}\n",
    "                val_loss, val_batch_acc, val_state = sess.run([loss, accuracy, final_state], feed_dict=feed)\n",
    "            validation_acc.append(val_batch_acc)\n",
    "            validation_loss.append(val_loss)\n",
    "            xs.append(e)\n",
    "                \n",
    "                    \n",
    "            print(\"Epoch: {}/{}...\".format(e+1, epochs),\n",
    "                          \"Batch: {}/{}...\".format(ii, n_batches),\n",
    "                          \"Train Loss: {:.3f}...\".format(loss_),\n",
    "                          \"Train Accruacy: {:.3f}...\".format((batch_acc)),\n",
    "                          \"Val Loss: {:.3f}...\".format((val_loss)),\n",
    "                          \"Val Accuracy: {:.3f}\".format((val_batch_acc)))\n",
    "    \n",
    "        saver.save(sess, \"checkpoints/sentiment.ckpt\")\n",
    "        return train_acc, train_loss, validation_acc, validation_loss,xs"
   ]
  },
  {
   "cell_type": "code",
   "execution_count": 90,
   "metadata": {},
   "outputs": [
    {
     "name": "stdout",
     "output_type": "stream",
     "text": [
      " embeddings shape  (?, ?, 32)\n",
      "Shape of LSTM layers \n",
      " (LSTMStateTuple(c=<tf.Tensor 'rnn/while/Exit_3:0' shape=(256, 100) dtype=float32>, h=<tf.Tensor 'rnn/while/Exit_4:0' shape=(256, 100) dtype=float32>), LSTMStateTuple(c=<tf.Tensor 'rnn/while/Exit_5:0' shape=(256, 50) dtype=float32>, h=<tf.Tensor 'rnn/while/Exit_6:0' shape=(256, 50) dtype=float32>))\n",
      "Shape of fully connected layer  (256, 1)\n",
      "Epoch: 1/10... Batch: 191/191... Train Loss: 0.119... Train Accruacy: 0.863... Val Loss: 0.104... Val Accuracy: 0.883\n",
      "Epoch: 2/10... Batch: 191/191... Train Loss: 0.102... Train Accruacy: 0.879... Val Loss: 0.077... Val Accuracy: 0.902\n",
      "Epoch: 3/10... Batch: 191/191... Train Loss: 0.083... Train Accruacy: 0.906... Val Loss: 0.052... Val Accuracy: 0.938\n",
      "Epoch: 4/10... Batch: 191/191... Train Loss: 0.067... Train Accruacy: 0.910... Val Loss: 0.054... Val Accuracy: 0.922\n",
      "Epoch: 5/10... Batch: 191/191... Train Loss: 0.056... Train Accruacy: 0.930... Val Loss: 0.056... Val Accuracy: 0.926\n",
      "Epoch: 6/10... Batch: 191/191... Train Loss: 0.046... Train Accruacy: 0.945... Val Loss: 0.060... Val Accuracy: 0.926\n",
      "Epoch: 7/10... Batch: 191/191... Train Loss: 0.049... Train Accruacy: 0.934... Val Loss: 0.050... Val Accuracy: 0.934\n",
      "Epoch: 8/10... Batch: 191/191... Train Loss: 0.046... Train Accruacy: 0.930... Val Loss: 0.052... Val Accuracy: 0.930\n",
      "Epoch: 9/10... Batch: 191/191... Train Loss: 0.045... Train Accruacy: 0.938... Val Loss: 0.055... Val Accuracy: 0.918\n",
      "Epoch: 10/10... Batch: 191/191... Train Loss: 0.035... Train Accruacy: 0.965... Val Loss: 0.061... Val Accuracy: 0.918\n",
      "CPU times: user 1h 1min 55s, sys: 5min 51s, total: 1h 7min 46s\n",
      "Wall time: 38min 52s\n"
     ]
    }
   ],
   "source": [
    "%%time\n",
    "with tf.Graph().as_default():\n",
    "    train_acc,train_loss,val_acc,val_loss,xs =  build_and_train_network(lstm_sizes, vocab_size, embed_size, epochs, batch_size,\n",
    "                                                                   learning_rate, dropout, X_train, X_val, y_train, y_val)"
   ]
  },
  {
   "cell_type": "code",
   "execution_count": 98,
   "metadata": {},
   "outputs": [
    {
     "data": {
      "image/png": "[encoded data removed]",
      "text/plain": [
       "<Figure size 432x288 with 1 Axes>"
      ]
     },
     "metadata": {},
     "output_type": "display_data"
    }
   ],
   "source": [
    "xs = range(10)\n",
    "fig,ax = plt.subplots(1,1)\n",
    "ax.set_xlabel('epoch') ; ax.set_ylabel('Loss')\n",
    "plt_dynamic(xs, train_loss, val_loss, ax)   "
   ]
  },
  {
   "cell_type": "code",
   "execution_count": 99,
   "metadata": {},
   "outputs": [
    {
     "data": {
      "image/png": "[encoded data removed]",
      "text/plain": [
       "<Figure size 432x288 with 1 Axes>"
      ]
     },
     "metadata": {},
     "output_type": "display_data"
    }
   ],
   "source": [
    "\n",
    "fig,ax = plt.subplots(1,1)\n",
    "ax.set_xlabel('epoch') ; ax.set_ylabel('accuracy')\n",
    "plt_dynamic(xs, train_acc, val_acc, ax)   "
   ]
  },
  {
   "cell_type": "code",
   "execution_count": 100,
   "metadata": {},
   "outputs": [],
   "source": [
    "def test_network(model_dir, batch_size, test_x, test_y):\n",
    "    \n",
    "    inputs_, labels_, keep_prob_ = model_inputs()\n",
    "    embed = build_embedding_layer(inputs_, vocab_size, embed_size)\n",
    "    initial_state, lstm_outputs, lstm_cell, final_state = build_lstm_layers(lstm_sizes, embed, keep_prob_, batch_size)\n",
    "    predictions, loss, optimizer = build_cost_fn_and_opt(lstm_outputs, labels_, learning_rate)\n",
    "    accuracy = build_accuracy(predictions, labels_)\n",
    "    \n",
    "    saver = tf.train.Saver()\n",
    "    \n",
    "    test_acc = []\n",
    "    with tf.Session() as sess:\n",
    "        saver.restore(sess, tf.train.latest_checkpoint(model_dir))\n",
    "        test_state = sess.run(lstm_cell.zero_state(batch_size, tf.float32))\n",
    "        for ii, (x, y) in enumerate(get_batches(test_x, test_y, batch_size), 1):\n",
    "            feed = {inputs_: x, labels_: y[:, None], keep_prob_: 1, initial_state: test_state}\n",
    "            batch_acc, test_state = sess.run([accuracy, final_state], feed_dict=feed)\n",
    "            test_acc.append(batch_acc)\n",
    "        avg_test_acc=np.mean(test_acc)\n",
    "        print(\"Test Accuracy: {:.3f}\".format(np.mean(avg_test_acc)))\n",
    "        return avg_test_acc"
   ]
  },
  {
   "cell_type": "code",
   "execution_count": 101,
   "metadata": {},
   "outputs": [
    {
     "name": "stdout",
     "output_type": "stream",
     "text": [
      " embeddings shape  (?, ?, 32)\n",
      "Shape of LSTM layers \n",
      " (LSTMStateTuple(c=<tf.Tensor 'rnn/while/Exit_3:0' shape=(256, 100) dtype=float32>, h=<tf.Tensor 'rnn/while/Exit_4:0' shape=(256, 100) dtype=float32>), LSTMStateTuple(c=<tf.Tensor 'rnn/while/Exit_5:0' shape=(256, 50) dtype=float32>, h=<tf.Tensor 'rnn/while/Exit_6:0' shape=(256, 50) dtype=float32>))\n",
      "Shape of fully connected layer  (256, 1)\n",
      "INFO:tensorflow:Restoring parameters from checkpoints/sentiment.ckpt\n",
      "Test Accuracy: 0.916\n"
     ]
    }
   ],
   "source": [
    "with tf.Graph().as_default():\n",
    "    test_acc=test_network('checkpoints', batch_size, X_test, y_test)"
   ]
  },
  {
   "cell_type": "code",
   "execution_count": null,
   "metadata": {},
   "outputs": [],
   "source": []
  },
  {
   "cell_type": "code",
   "execution_count": null,
   "metadata": {},
   "outputs": [],
   "source": []
  },
  {
   "cell_type": "code",
   "execution_count": 102,
   "metadata": {},
   "outputs": [],
   "source": [
    "import pandas as pd"
   ]
  },
  {
   "cell_type": "code",
   "execution_count": 103,
   "metadata": {},
   "outputs": [],
   "source": [
    "\n",
    "tf_LSTM_summary = pd.DataFrame()\n",
    "tf_LSTM_summary['Model'] = [\"2 layer LSTM model\"]\n",
    "tf_LSTM_summary['train avg cost'] = train_loss[-1]\n",
    "tf_LSTM_summary['Val_avg_cost'] = val_loss[-1].round(4)\n",
    "tf_LSTM_summary['train_accuracy'] = train_acc[-1].round(4)\n",
    "tf_LSTM_summary['Val_accuracy'] = val_acc[-1].round(4)\n",
    "tf_LSTM_summary['test_accuracy'] = test_acc.round(4)"
   ]
  },
  {
   "cell_type": "code",
   "execution_count": 104,
   "metadata": {},
   "outputs": [],
   "source": [
    "tf_LSTM_summary.to_csv('tf_LSTM_summary.csv', index=False)"
   ]
  },
  {
   "cell_type": "code",
   "execution_count": 105,
   "metadata": {},
   "outputs": [
    {
     "data": {
      "text/html": [
       "<div>\n",
       "<style scoped>\n",
       "    .dataframe tbody tr th:only-of-type {\n",
       "        vertical-align: middle;\n",
       "    }\n",
       "\n",
       "    .dataframe tbody tr th {\n",
       "        vertical-align: top;\n",
       "    }\n",
       "\n",
       "    .dataframe thead th {\n",
       "        text-align: right;\n",
       "    }\n",
       "</style>\n",
       "<table border=\"1\" class=\"dataframe\">\n",
       "  <thead>\n",
       "    <tr style=\"text-align: right;\">\n",
       "      <th></th>\n",
       "      <th>Model</th>\n",
       "      <th>train avg cost</th>\n",
       "      <th>Val_avg_cost</th>\n",
       "      <th>train_accuracy</th>\n",
       "      <th>Val_accuracy</th>\n",
       "      <th>test_accuracy</th>\n",
       "    </tr>\n",
       "  </thead>\n",
       "  <tbody>\n",
       "    <tr>\n",
       "      <th>0</th>\n",
       "      <td>2 layer LSTM model</td>\n",
       "      <td>0.034784</td>\n",
       "      <td>0.0607</td>\n",
       "      <td>0.9648</td>\n",
       "      <td>0.918</td>\n",
       "      <td>0.916</td>\n",
       "    </tr>\n",
       "  </tbody>\n",
       "</table>\n",
       "</div>"
      ],
      "text/plain": [
       "                Model  train avg cost  Val_avg_cost  train_accuracy  \\\n",
       "0  2 layer LSTM model        0.034784        0.0607          0.9648   \n",
       "\n",
       "   Val_accuracy  test_accuracy  \n",
       "0         0.918          0.916  "
      ]
     },
     "execution_count": 105,
     "metadata": {},
     "output_type": "execute_result"
    }
   ],
   "source": [
    "tf_LSTM_summ = pd.read_csv(\"./tf_LSTM_summary.csv\", engine = \"python\")\n",
    "tf_LSTM_summ"
   ]
  },
  {
   "cell_type": "code",
   "execution_count": null,
   "metadata": {},
   "outputs": [],
   "source": []
  },
  {
   "cell_type": "code",
   "execution_count": 41,
   "metadata": {},
   "outputs": [
    {
     "name": "stdout",
     "output_type": "stream",
     "text": [
      "LSTM summary table using tensorflow\n"
     ]
    },
    {
     "data": {
      "text/html": [
       "<div>\n",
       "<style scoped>\n",
       "    .dataframe tbody tr th:only-of-type {\n",
       "        vertical-align: middle;\n",
       "    }\n",
       "\n",
       "    .dataframe tbody tr th {\n",
       "        vertical-align: top;\n",
       "    }\n",
       "\n",
       "    .dataframe thead th {\n",
       "        text-align: right;\n",
       "    }\n",
       "</style>\n",
       "<table border=\"1\" class=\"dataframe\">\n",
       "  <thead>\n",
       "    <tr style=\"text-align: right;\">\n",
       "      <th></th>\n",
       "      <th>Model</th>\n",
       "      <th>train avg cost</th>\n",
       "      <th>Val_avg_cost</th>\n",
       "      <th>train_accuracy</th>\n",
       "      <th>Val_accuracy</th>\n",
       "      <th>test_accuracy</th>\n",
       "    </tr>\n",
       "  </thead>\n",
       "  <tbody>\n",
       "    <tr>\n",
       "      <th>0</th>\n",
       "      <td>2 layer LSTM model</td>\n",
       "      <td>0.034784</td>\n",
       "      <td>0.0607</td>\n",
       "      <td>0.9648</td>\n",
       "      <td>0.918</td>\n",
       "      <td>0.9160</td>\n",
       "    </tr>\n",
       "    <tr>\n",
       "      <th>1</th>\n",
       "      <td>1(100) Layered LSTM</td>\n",
       "      <td>0.042119</td>\n",
       "      <td>0.0652</td>\n",
       "      <td>0.9453</td>\n",
       "      <td>0.918</td>\n",
       "      <td>0.9129</td>\n",
       "    </tr>\n",
       "  </tbody>\n",
       "</table>\n",
       "</div>"
      ],
      "text/plain": [
       "                 Model  train avg cost  Val_avg_cost  train_accuracy  \\\n",
       "0   2 layer LSTM model        0.034784        0.0607          0.9648   \n",
       "1  1(100) Layered LSTM        0.042119        0.0652          0.9453   \n",
       "\n",
       "   Val_accuracy  test_accuracy  \n",
       "0         0.918         0.9160  \n",
       "1         0.918         0.9129  "
      ]
     },
     "execution_count": 41,
     "metadata": {},
     "output_type": "execute_result"
    }
   ],
   "source": [
    "print(\"LSTM summary table using tensorflow\")\n",
    "tf_LSTM_summ = pd.read_csv(\"./tf_LSTM_summary.csv\", engine = \"python\")\n",
    "tf_LSTM_summ"
   ]
  },
  {
   "cell_type": "code",
   "execution_count": 42,
   "metadata": {},
   "outputs": [
    {
     "name": "stdout",
     "output_type": "stream",
     "text": [
      "LSTM summary table using Keras\n"
     ]
    },
    {
     "data": {
      "text/html": [
       "<div>\n",
       "<style scoped>\n",
       "    .dataframe tbody tr th:only-of-type {\n",
       "        vertical-align: middle;\n",
       "    }\n",
       "\n",
       "    .dataframe tbody tr th {\n",
       "        vertical-align: top;\n",
       "    }\n",
       "\n",
       "    .dataframe thead th {\n",
       "        text-align: right;\n",
       "    }\n",
       "</style>\n",
       "<table border=\"1\" class=\"dataframe\">\n",
       "  <thead>\n",
       "    <tr style=\"text-align: right;\">\n",
       "      <th></th>\n",
       "      <th>Model</th>\n",
       "      <th>train_accuracy</th>\n",
       "      <th>train_loss</th>\n",
       "      <th>validation_accuracy</th>\n",
       "      <th>validation_loss</th>\n",
       "      <th>test_accuracy</th>\n",
       "      <th>test_loss</th>\n",
       "    </tr>\n",
       "  </thead>\n",
       "  <tbody>\n",
       "    <tr>\n",
       "      <th>0</th>\n",
       "      <td>LSTM(100)</td>\n",
       "      <td>0.9569</td>\n",
       "      <td>0.1216</td>\n",
       "      <td>0.9191</td>\n",
       "      <td>0.2263</td>\n",
       "      <td>0.9160</td>\n",
       "      <td>0.2316</td>\n",
       "    </tr>\n",
       "    <tr>\n",
       "      <th>1</th>\n",
       "      <td>LSTM(100)-LSTM(50)</td>\n",
       "      <td>0.9604</td>\n",
       "      <td>0.1137</td>\n",
       "      <td>0.9157</td>\n",
       "      <td>0.2440</td>\n",
       "      <td>0.9143</td>\n",
       "      <td>0.2493</td>\n",
       "    </tr>\n",
       "  </tbody>\n",
       "</table>\n",
       "</div>"
      ],
      "text/plain": [
       "                Model  train_accuracy  train_loss  validation_accuracy  \\\n",
       "0           LSTM(100)          0.9569      0.1216               0.9191   \n",
       "1  LSTM(100)-LSTM(50)          0.9604      0.1137               0.9157   \n",
       "\n",
       "   validation_loss  test_accuracy  test_loss  \n",
       "0           0.2263         0.9160     0.2316  \n",
       "1           0.2440         0.9143     0.2493  "
      ]
     },
     "execution_count": 42,
     "metadata": {},
     "output_type": "execute_result"
    }
   ],
   "source": [
    "print(\"LSTM summary table using Keras\")\n",
    "LSTM_summ = pd.read_csv(\"./LSTM_summary.csv\", engine = \"python\")\n",
    "LSTM_summ"
   ]
  },
  {
   "cell_type": "markdown",
   "metadata": {},
   "source": [
    "**Summarizing**\n",
    "    - we can very well observe that 1-layered or 2-layered model either with Keras or Tensorflow have showed almost similar performance as if we check test accuracy of 1-layered model it is appx 91% and for 2 layered model it is also 91% for both tensorflow and keras, same similarities can be observed for train and validation accuracies.\n",
    "    - Training LSTMs with very large data corpus is a slow process and it may easily overfit.\n",
    "    - In summary, LSTM networks are an extension of RNNs that are designed to handle the problem of learning long-term dependencies. LSTMs have broad-reaching applications when dealing with sequential data and are often used for NLP tasks. \n",
    "    "
   ]
  },
  {
   "cell_type": "code",
   "execution_count": null,
   "metadata": {},
   "outputs": [],
   "source": []
  }
 ],
 "metadata": {
  "kernelspec": {
   "display_name": "Python 3",
   "language": "python",
   "name": "python3"
  },
  "language_info": {
   "codemirror_mode": {
    "name": "ipython",
    "version": 3
   },
   "file_extension": ".py",
   "mimetype": "text/x-python",
   "name": "python",
   "nbconvert_exporter": "python",
   "pygments_lexer": "ipython3",
   "version": "3.6.7"
  }
 },
 "nbformat": 4,
 "nbformat_minor": 2
}
